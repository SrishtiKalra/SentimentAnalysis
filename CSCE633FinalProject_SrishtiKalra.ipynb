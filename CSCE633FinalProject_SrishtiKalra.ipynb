{
  "cells": [
    {
      "cell_type": "markdown",
      "metadata": {
        "id": "gCxXNNJ2Wr8x"
      },
      "source": [
        "# Data Preprocessing"
      ]
    },
    {
      "cell_type": "code",
      "execution_count": null,
      "metadata": {
        "colab": {
          "base_uri": "https://localhost:8080/"
        },
        "id": "cwTJ5-BWYEm6",
        "outputId": "caf1c86d-ea4b-4b6a-c90e-4891a0da3c98"
      },
      "outputs": [
        {
          "name": "stderr",
          "output_type": "stream",
          "text": [
            "[nltk_data] Downloading package stopwords to\n",
            "[nltk_data]     /home/sc10670/nltk_data...\n",
            "[nltk_data]   Package stopwords is already up-to-date!\n"
          ]
        },
        {
          "data": {
            "text/plain": [
              "True"
            ]
          },
          "execution_count": 1,
          "metadata": {},
          "output_type": "execute_result"
        }
      ],
      "source": [
        "# import the Natural Language Toolkit (NLTK) and download a set of 'stopwords' from NLTK.\n",
        "It then downloads a set of 'stopwords' from NLTK\n",
        "import nltk\n",
        "nltk.download('stopwords')\n"
      ]
    },
    {
      "cell_type": "code",
      "execution_count": null,
      "metadata": {
        "id": "9QRJ-GKq2YpQ"
      },
      "outputs": [],
      "source": [
        "# import the required libraries\n",
        "import transformers\n",
        "import torch.optim as optim\n",
        "from transformers import BertModel, BertTokenizer, AdamW, get_linear_schedule_with_warmup\n",
        "import torch\n",
        "import torch.nn as nn\n",
        "import numpy as np\n",
        "import seaborn as sns\n",
        "import pandas as pd\n",
        "import nltk\n",
        "import re\n",
        "from nltk.corpus import stopwords\n",
        "import matplotlib.pyplot as plt\n",
        "from torch.optim import SGD\n",
        "from sklearn.model_selection import train_test_split\n",
        "import warnings\n",
        "warnings.filterwarnings(\"ignore\")"
      ]
    },
    {
      "cell_type": "code",
      "execution_count": null,
      "metadata": {
        "id": "EPD0L4X0YN4J"
      },
      "outputs": [],
      "source": [
        "# Load the data\n",
        "train_data = pd.read_csv('yelp_review_train.csv')\n",
        "test_data = pd.read_csv('yelp_review_test.csv')"
      ]
    },
    {
      "cell_type": "code",
      "execution_count": null,
      "metadata": {
        "colab": {
          "base_uri": "https://localhost:8080/",
          "height": 204
        },
        "id": "VfozGdA8YcaX",
        "outputId": "0950da2c-7bc6-4326-b2a3-320bb1b92f1d"
      },
      "outputs": [
        {
          "data": {
            "text/html": [
              "<div>\n",
              "<style scoped>\n",
              "    .dataframe tbody tr th:only-of-type {\n",
              "        vertical-align: middle;\n",
              "    }\n",
              "\n",
              "    .dataframe tbody tr th {\n",
              "        vertical-align: top;\n",
              "    }\n",
              "\n",
              "    .dataframe thead th {\n",
              "        text-align: right;\n",
              "    }\n",
              "</style>\n",
              "<table border=\"1\" class=\"dataframe\">\n",
              "  <thead>\n",
              "    <tr style=\"text-align: right;\">\n",
              "      <th></th>\n",
              "      <th>text</th>\n",
              "      <th>stars</th>\n",
              "    </tr>\n",
              "  </thead>\n",
              "  <tbody>\n",
              "    <tr>\n",
              "      <th>0</th>\n",
              "      <td>Went for lunch and found that my burger was me...</td>\n",
              "      <td>2.0</td>\n",
              "    </tr>\n",
              "    <tr>\n",
              "      <th>1</th>\n",
              "      <td>I needed a new tires for my wife's car. They h...</td>\n",
              "      <td>5.0</td>\n",
              "    </tr>\n",
              "    <tr>\n",
              "      <th>2</th>\n",
              "      <td>Jim Woltman who works at Goleta Honda is 5 sta...</td>\n",
              "      <td>5.0</td>\n",
              "    </tr>\n",
              "    <tr>\n",
              "      <th>3</th>\n",
              "      <td>Been here a few times to get some shrimp.  The...</td>\n",
              "      <td>4.0</td>\n",
              "    </tr>\n",
              "    <tr>\n",
              "      <th>4</th>\n",
              "      <td>This is one fantastic place to eat whether you...</td>\n",
              "      <td>5.0</td>\n",
              "    </tr>\n",
              "  </tbody>\n",
              "</table>\n",
              "</div>"
            ],
            "text/plain": [
              "                                                text  stars\n",
              "0  Went for lunch and found that my burger was me...    2.0\n",
              "1  I needed a new tires for my wife's car. They h...    5.0\n",
              "2  Jim Woltman who works at Goleta Honda is 5 sta...    5.0\n",
              "3  Been here a few times to get some shrimp.  The...    4.0\n",
              "4  This is one fantastic place to eat whether you...    5.0"
            ]
          },
          "execution_count": 5,
          "metadata": {},
          "output_type": "execute_result"
        }
      ],
      "source": [
        "train_data.head()"
      ]
    },
    {
      "cell_type": "code",
      "execution_count": null,
      "metadata": {
        "colab": {
          "base_uri": "https://localhost:8080/",
          "height": 204
        },
        "id": "SOk1TjuP2l0H",
        "outputId": "a093805a-f313-41a4-b855-cbc4f69d09df"
      },
      "outputs": [
        {
          "data": {
            "text/html": [
              "<div>\n",
              "<style scoped>\n",
              "    .dataframe tbody tr th:only-of-type {\n",
              "        vertical-align: middle;\n",
              "    }\n",
              "\n",
              "    .dataframe tbody tr th {\n",
              "        vertical-align: top;\n",
              "    }\n",
              "\n",
              "    .dataframe thead th {\n",
              "        text-align: right;\n",
              "    }\n",
              "</style>\n",
              "<table border=\"1\" class=\"dataframe\">\n",
              "  <thead>\n",
              "    <tr style=\"text-align: right;\">\n",
              "      <th></th>\n",
              "      <th>text</th>\n",
              "      <th>stars</th>\n",
              "    </tr>\n",
              "  </thead>\n",
              "  <tbody>\n",
              "    <tr>\n",
              "      <th>0</th>\n",
              "      <td>Hidden treasure! Awesome service, delicious fo...</td>\n",
              "      <td>5.0</td>\n",
              "    </tr>\n",
              "    <tr>\n",
              "      <th>1</th>\n",
              "      <td>My family and I have been patients since I  wa...</td>\n",
              "      <td>5.0</td>\n",
              "    </tr>\n",
              "    <tr>\n",
              "      <th>2</th>\n",
              "      <td>I rarely get pedicures, but Blue Nail's practi...</td>\n",
              "      <td>5.0</td>\n",
              "    </tr>\n",
              "    <tr>\n",
              "      <th>3</th>\n",
              "      <td>We came with a large group, may of the items w...</td>\n",
              "      <td>2.0</td>\n",
              "    </tr>\n",
              "    <tr>\n",
              "      <th>4</th>\n",
              "      <td>The view is great from Morgan's Pier. The bart...</td>\n",
              "      <td>2.0</td>\n",
              "    </tr>\n",
              "  </tbody>\n",
              "</table>\n",
              "</div>"
            ],
            "text/plain": [
              "                                                text  stars\n",
              "0  Hidden treasure! Awesome service, delicious fo...    5.0\n",
              "1  My family and I have been patients since I  wa...    5.0\n",
              "2  I rarely get pedicures, but Blue Nail's practi...    5.0\n",
              "3  We came with a large group, may of the items w...    2.0\n",
              "4  The view is great from Morgan's Pier. The bart...    2.0"
            ]
          },
          "execution_count": 6,
          "metadata": {},
          "output_type": "execute_result"
        }
      ],
      "source": [
        "test_data.head()"
      ]
    },
    {
      "cell_type": "code",
      "execution_count": null,
      "metadata": {
        "id": "puF9_r11aIxO"
      },
      "outputs": [],
      "source": [
        "# Set of English stop words\n",
        "stop_words = set(stopwords.words('english'))\n",
        "\n",
        "# Function to clean the text data\n",
        "def clean_text(text):\n",
        "    # Remove punctuation and numbers\n",
        "    text = re.sub(r'[^\\w\\s]', '', text)\n",
        "    # Convert to lowercase\n",
        "    text = text.lower()\n",
        "    # Remove stopwords\n",
        "    text = ' '.join([word for word in text.split() if word not in stop_words])\n",
        "    return text\n",
        "\n",
        "# Apply the cleaning function to the data\n",
        "train_data['text'] = train_data['text'].apply(clean_text)\n",
        "test_data['text'] = test_data['text'].apply(clean_text)\n",
        "\n",
        "\n",
        "# Function to convert stars into categories\n",
        "def convert_stars_to_sentiment(stars):\n",
        "    if stars > 3:\n",
        "        return 'Positive'\n",
        "    elif stars < 3:\n",
        "        return 'Negative'\n",
        "    else:\n",
        "        return 'Neutral'\n",
        "\n",
        "# Apply the conversion function to the stars column\n",
        "train_data['sentiment'] = train_data['stars'].apply(convert_stars_to_sentiment)\n",
        "test_data['sentiment'] = test_data['stars'].apply(convert_stars_to_sentiment)\n"
      ]
    },
    {
      "cell_type": "code",
      "execution_count": null,
      "metadata": {
        "colab": {
          "base_uri": "https://localhost:8080/",
          "height": 419
        },
        "id": "isTkOu2gaaxk",
        "outputId": "d6d3753e-222b-4dbf-c381-b6ecc6397d34"
      },
      "outputs": [
        {
          "data": {
            "text/html": [
              "<div>\n",
              "<style scoped>\n",
              "    .dataframe tbody tr th:only-of-type {\n",
              "        vertical-align: middle;\n",
              "    }\n",
              "\n",
              "    .dataframe tbody tr th {\n",
              "        vertical-align: top;\n",
              "    }\n",
              "\n",
              "    .dataframe thead th {\n",
              "        text-align: right;\n",
              "    }\n",
              "</style>\n",
              "<table border=\"1\" class=\"dataframe\">\n",
              "  <thead>\n",
              "    <tr style=\"text-align: right;\">\n",
              "      <th></th>\n",
              "      <th>text</th>\n",
              "      <th>sentiment</th>\n",
              "    </tr>\n",
              "  </thead>\n",
              "  <tbody>\n",
              "    <tr>\n",
              "      <th>0</th>\n",
              "      <td>went lunch found burger meh obvious focus burg...</td>\n",
              "      <td>Negative</td>\n",
              "    </tr>\n",
              "    <tr>\n",
              "      <th>1</th>\n",
              "      <td>needed new tires wifes car special order next ...</td>\n",
              "      <td>Positive</td>\n",
              "    </tr>\n",
              "    <tr>\n",
              "      <th>2</th>\n",
              "      <td>jim woltman works goleta honda 5 stars knowled...</td>\n",
              "      <td>Positive</td>\n",
              "    </tr>\n",
              "    <tr>\n",
              "      <th>3</th>\n",
              "      <td>times get shrimp theyve got nice selection dif...</td>\n",
              "      <td>Positive</td>\n",
              "    </tr>\n",
              "    <tr>\n",
              "      <th>4</th>\n",
              "      <td>one fantastic place eat whether hungry need go...</td>\n",
              "      <td>Positive</td>\n",
              "    </tr>\n",
              "    <tr>\n",
              "      <th>...</th>\n",
              "      <td>...</td>\n",
              "      <td>...</td>\n",
              "    </tr>\n",
              "    <tr>\n",
              "      <th>174752</th>\n",
              "      <td>oy great partially fault holy smokes daughter ...</td>\n",
              "      <td>Negative</td>\n",
              "    </tr>\n",
              "    <tr>\n",
              "      <th>174753</th>\n",
              "      <td>im huge fan chocolate maya high quality ingred...</td>\n",
              "      <td>Positive</td>\n",
              "    </tr>\n",
              "    <tr>\n",
              "      <th>174754</th>\n",
              "      <td>hosted wedding ceremony could happier everythi...</td>\n",
              "      <td>Positive</td>\n",
              "    </tr>\n",
              "    <tr>\n",
              "      <th>174755</th>\n",
              "      <td>love place fantastic lunch specials get 3 roll...</td>\n",
              "      <td>Positive</td>\n",
              "    </tr>\n",
              "    <tr>\n",
              "      <th>174756</th>\n",
              "      <td>happy service food one best tasting turkey bur...</td>\n",
              "      <td>Positive</td>\n",
              "    </tr>\n",
              "  </tbody>\n",
              "</table>\n",
              "<p>174757 rows × 2 columns</p>\n",
              "</div>"
            ],
            "text/plain": [
              "                                                     text sentiment\n",
              "0       went lunch found burger meh obvious focus burg...  Negative\n",
              "1       needed new tires wifes car special order next ...  Positive\n",
              "2       jim woltman works goleta honda 5 stars knowled...  Positive\n",
              "3       times get shrimp theyve got nice selection dif...  Positive\n",
              "4       one fantastic place eat whether hungry need go...  Positive\n",
              "...                                                   ...       ...\n",
              "174752  oy great partially fault holy smokes daughter ...  Negative\n",
              "174753  im huge fan chocolate maya high quality ingred...  Positive\n",
              "174754  hosted wedding ceremony could happier everythi...  Positive\n",
              "174755  love place fantastic lunch specials get 3 roll...  Positive\n",
              "174756  happy service food one best tasting turkey bur...  Positive\n",
              "\n",
              "[174757 rows x 2 columns]"
            ]
          },
          "execution_count": 8,
          "metadata": {},
          "output_type": "execute_result"
        }
      ],
      "source": [
        "train_data[['text', 'sentiment']]"
      ]
    },
    {
      "cell_type": "code",
      "execution_count": null,
      "metadata": {
        "colab": {
          "base_uri": "https://localhost:8080/",
          "height": 419
        },
        "id": "8lL-DrEyLJD4",
        "outputId": "77c0fab6-1dd1-42e8-bf8b-0c6b85b8500d"
      },
      "outputs": [
        {
          "data": {
            "text/html": [
              "<div>\n",
              "<style scoped>\n",
              "    .dataframe tbody tr th:only-of-type {\n",
              "        vertical-align: middle;\n",
              "    }\n",
              "\n",
              "    .dataframe tbody tr th {\n",
              "        vertical-align: top;\n",
              "    }\n",
              "\n",
              "    .dataframe thead th {\n",
              "        text-align: right;\n",
              "    }\n",
              "</style>\n",
              "<table border=\"1\" class=\"dataframe\">\n",
              "  <thead>\n",
              "    <tr style=\"text-align: right;\">\n",
              "      <th></th>\n",
              "      <th>text</th>\n",
              "      <th>sentiment</th>\n",
              "    </tr>\n",
              "  </thead>\n",
              "  <tbody>\n",
              "    <tr>\n",
              "      <th>0</th>\n",
              "      <td>hidden treasure awesome service delicious food...</td>\n",
              "      <td>Positive</td>\n",
              "    </tr>\n",
              "    <tr>\n",
              "      <th>1</th>\n",
              "      <td>family patients since 5 years old 34 trust qua...</td>\n",
              "      <td>Positive</td>\n",
              "    </tr>\n",
              "    <tr>\n",
              "      <th>2</th>\n",
              "      <td>rarely get pedicures blue nails practice combi...</td>\n",
              "      <td>Positive</td>\n",
              "    </tr>\n",
              "    <tr>\n",
              "      <th>3</th>\n",
              "      <td>came large group may items missing menu lobste...</td>\n",
              "      <td>Negative</td>\n",
              "    </tr>\n",
              "    <tr>\n",
              "      <th>4</th>\n",
              "      <td>view great morgans pier bartenders even good s...</td>\n",
              "      <td>Negative</td>\n",
              "    </tr>\n",
              "    <tr>\n",
              "      <th>...</th>\n",
              "      <td>...</td>\n",
              "      <td>...</td>\n",
              "    </tr>\n",
              "    <tr>\n",
              "      <th>13975</th>\n",
              "      <td>amazing food opened new place princeton lamb s...</td>\n",
              "      <td>Positive</td>\n",
              "    </tr>\n",
              "    <tr>\n",
              "      <th>13976</th>\n",
              "      <td>thanks great planning store wonderful black fr...</td>\n",
              "      <td>Positive</td>\n",
              "    </tr>\n",
              "    <tr>\n",
              "      <th>13977</th>\n",
              "      <td>classic nola white tablecloth dining experienc...</td>\n",
              "      <td>Positive</td>\n",
              "    </tr>\n",
              "    <tr>\n",
              "      <th>13978</th>\n",
              "      <td>waiting 15 minutes without much someone taking...</td>\n",
              "      <td>Negative</td>\n",
              "    </tr>\n",
              "    <tr>\n",
              "      <th>13979</th>\n",
              "      <td>guys come clean gutters 2 story house way wind...</td>\n",
              "      <td>Positive</td>\n",
              "    </tr>\n",
              "  </tbody>\n",
              "</table>\n",
              "<p>13980 rows × 2 columns</p>\n",
              "</div>"
            ],
            "text/plain": [
              "                                                    text sentiment\n",
              "0      hidden treasure awesome service delicious food...  Positive\n",
              "1      family patients since 5 years old 34 trust qua...  Positive\n",
              "2      rarely get pedicures blue nails practice combi...  Positive\n",
              "3      came large group may items missing menu lobste...  Negative\n",
              "4      view great morgans pier bartenders even good s...  Negative\n",
              "...                                                  ...       ...\n",
              "13975  amazing food opened new place princeton lamb s...  Positive\n",
              "13976  thanks great planning store wonderful black fr...  Positive\n",
              "13977  classic nola white tablecloth dining experienc...  Positive\n",
              "13978  waiting 15 minutes without much someone taking...  Negative\n",
              "13979  guys come clean gutters 2 story house way wind...  Positive\n",
              "\n",
              "[13980 rows x 2 columns]"
            ]
          },
          "execution_count": 9,
          "metadata": {},
          "output_type": "execute_result"
        }
      ],
      "source": [
        "test_data[['text', 'sentiment']]"
      ]
    },
    {
      "cell_type": "code",
      "execution_count": null,
      "metadata": {
        "colab": {
          "base_uri": "https://localhost:8080/",
          "height": 573
        },
        "id": "5Wua30HCHrxR",
        "outputId": "4a3e2ae6-e41d-454c-c06f-76f1dd9ed4a9"
      },
      "outputs": [
        {
          "data": {
            "image/png": "[encoded data removed]",
            "text/plain": [
              "<Figure size 800x600 with 1 Axes>"
            ]
          },
          "metadata": {},
          "output_type": "display_data"
        }
      ],
      "source": [
        "# visualizing the distribution of sentiments in the train_data DataFrame using a count plot\n",
        "sns.set(style=\"darkgrid\")\n",
        "plt.figure(figsize=(8, 6))\n",
        "sns.countplot(x='sentiment', data=train_data, palette=\"viridis\")\n",
        "\n",
        "# Adding labels and title\n",
        "plt.xlabel('Sentiment')\n",
        "plt.ylabel('Count')\n",
        "plt.title('Distribution of Sentiments')\n",
        "\n",
        "# Display the plot\n",
        "plt.show()"
      ]
    },
    {
      "cell_type": "markdown",
      "source": [
        "As can be seen from the above graph distribution, the dataset is not balanced. The number of reviews marked positive is way more than the data points belonging to Negative and Neutral classes. This can also be inferred from the class counts displayed below:"
      ],
      "metadata": {
        "id": "cTzNb6gRj30F"
      }
    },
    {
      "cell_type": "code",
      "execution_count": null,
      "metadata": {
        "colab": {
          "base_uri": "https://localhost:8080/"
        },
        "id": "Pjy7bcvSH20z",
        "outputId": "2ddbdce2-1e49-4d3e-c7e2-969dc4b71ff4"
      },
      "outputs": [
        {
          "name": "stdout",
          "output_type": "stream",
          "text": [
            "text         117177\n",
            "stars        117177\n",
            "sentiment    117177\n",
            "dtype: int64\n",
            "text         40345\n",
            "stars        40345\n",
            "sentiment    40345\n",
            "dtype: int64\n",
            "text         17235\n",
            "stars        17235\n",
            "sentiment    17235\n",
            "dtype: int64\n"
          ]
        }
      ],
      "source": [
        "print(train_data[train_data[\"sentiment\"] == \"Positive\"].count())\n",
        "print(train_data[train_data[\"sentiment\"] == \"Negative\"].count())\n",
        "print(train_data[train_data[\"sentiment\"] == \"Neutral\"].count())"
      ]
    },
    {
      "cell_type": "code",
      "execution_count": null,
      "metadata": {
        "colab": {
          "base_uri": "https://localhost:8080/",
          "height": 204
        },
        "id": "A5I6e6CCIUWR",
        "outputId": "6703e4a6-1273-4531-b895-b5f79678d09f"
      },
      "outputs": [
        {
          "data": {
            "text/html": [
              "<div>\n",
              "<style scoped>\n",
              "    .dataframe tbody tr th:only-of-type {\n",
              "        vertical-align: middle;\n",
              "    }\n",
              "\n",
              "    .dataframe tbody tr th {\n",
              "        vertical-align: top;\n",
              "    }\n",
              "\n",
              "    .dataframe thead th {\n",
              "        text-align: right;\n",
              "    }\n",
              "</style>\n",
              "<table border=\"1\" class=\"dataframe\">\n",
              "  <thead>\n",
              "    <tr style=\"text-align: right;\">\n",
              "      <th></th>\n",
              "      <th>text</th>\n",
              "      <th>stars</th>\n",
              "      <th>sentiment</th>\n",
              "    </tr>\n",
              "  </thead>\n",
              "  <tbody>\n",
              "    <tr>\n",
              "      <th>0</th>\n",
              "      <td>went lunch found burger meh obvious focus burg...</td>\n",
              "      <td>2.0</td>\n",
              "      <td>Negative</td>\n",
              "    </tr>\n",
              "    <tr>\n",
              "      <th>1</th>\n",
              "      <td>needed new tires wifes car special order next ...</td>\n",
              "      <td>5.0</td>\n",
              "      <td>Positive</td>\n",
              "    </tr>\n",
              "    <tr>\n",
              "      <th>2</th>\n",
              "      <td>jim woltman works goleta honda 5 stars knowled...</td>\n",
              "      <td>5.0</td>\n",
              "      <td>Positive</td>\n",
              "    </tr>\n",
              "    <tr>\n",
              "      <th>3</th>\n",
              "      <td>times get shrimp theyve got nice selection dif...</td>\n",
              "      <td>4.0</td>\n",
              "      <td>Positive</td>\n",
              "    </tr>\n",
              "    <tr>\n",
              "      <th>4</th>\n",
              "      <td>one fantastic place eat whether hungry need go...</td>\n",
              "      <td>5.0</td>\n",
              "      <td>Positive</td>\n",
              "    </tr>\n",
              "  </tbody>\n",
              "</table>\n",
              "</div>"
            ],
            "text/plain": [
              "                                                text  stars sentiment\n",
              "0  went lunch found burger meh obvious focus burg...    2.0  Negative\n",
              "1  needed new tires wifes car special order next ...    5.0  Positive\n",
              "2  jim woltman works goleta honda 5 stars knowled...    5.0  Positive\n",
              "3  times get shrimp theyve got nice selection dif...    4.0  Positive\n",
              "4  one fantastic place eat whether hungry need go...    5.0  Positive"
            ]
          },
          "execution_count": 12,
          "metadata": {},
          "output_type": "execute_result"
        }
      ],
      "source": [
        "train_data[['text', 'stars', 'sentiment']].head()"
      ]
    },
    {
      "cell_type": "code",
      "execution_count": null,
      "metadata": {
        "colab": {
          "base_uri": "https://localhost:8080/",
          "height": 204
        },
        "id": "DUChRnh2IY7Q",
        "outputId": "d1a26e02-b5d1-4fc4-a1cb-25358adb05b8"
      },
      "outputs": [
        {
          "data": {
            "text/html": [
              "<div>\n",
              "<style scoped>\n",
              "    .dataframe tbody tr th:only-of-type {\n",
              "        vertical-align: middle;\n",
              "    }\n",
              "\n",
              "    .dataframe tbody tr th {\n",
              "        vertical-align: top;\n",
              "    }\n",
              "\n",
              "    .dataframe thead th {\n",
              "        text-align: right;\n",
              "    }\n",
              "</style>\n",
              "<table border=\"1\" class=\"dataframe\">\n",
              "  <thead>\n",
              "    <tr style=\"text-align: right;\">\n",
              "      <th></th>\n",
              "      <th>text</th>\n",
              "      <th>stars</th>\n",
              "      <th>sentiment</th>\n",
              "    </tr>\n",
              "  </thead>\n",
              "  <tbody>\n",
              "    <tr>\n",
              "      <th>0</th>\n",
              "      <td>hidden treasure awesome service delicious food...</td>\n",
              "      <td>5.0</td>\n",
              "      <td>Positive</td>\n",
              "    </tr>\n",
              "    <tr>\n",
              "      <th>1</th>\n",
              "      <td>family patients since 5 years old 34 trust qua...</td>\n",
              "      <td>5.0</td>\n",
              "      <td>Positive</td>\n",
              "    </tr>\n",
              "    <tr>\n",
              "      <th>2</th>\n",
              "      <td>rarely get pedicures blue nails practice combi...</td>\n",
              "      <td>5.0</td>\n",
              "      <td>Positive</td>\n",
              "    </tr>\n",
              "    <tr>\n",
              "      <th>3</th>\n",
              "      <td>came large group may items missing menu lobste...</td>\n",
              "      <td>2.0</td>\n",
              "      <td>Negative</td>\n",
              "    </tr>\n",
              "    <tr>\n",
              "      <th>4</th>\n",
              "      <td>view great morgans pier bartenders even good s...</td>\n",
              "      <td>2.0</td>\n",
              "      <td>Negative</td>\n",
              "    </tr>\n",
              "  </tbody>\n",
              "</table>\n",
              "</div>"
            ],
            "text/plain": [
              "                                                text  stars sentiment\n",
              "0  hidden treasure awesome service delicious food...    5.0  Positive\n",
              "1  family patients since 5 years old 34 trust qua...    5.0  Positive\n",
              "2  rarely get pedicures blue nails practice combi...    5.0  Positive\n",
              "3  came large group may items missing menu lobste...    2.0  Negative\n",
              "4  view great morgans pier bartenders even good s...    2.0  Negative"
            ]
          },
          "execution_count": 13,
          "metadata": {},
          "output_type": "execute_result"
        }
      ],
      "source": [
        "test_data[['text', 'stars','sentiment']].head()"
      ]
    },
    {
      "cell_type": "markdown",
      "source": [
        "Splitting the training dataset into training and validation sets in a way that maintains the class distribution of the 'sentiment' target variable."
      ],
      "metadata": {
        "id": "7MZUIXiYoHAm"
      }
    },
    {
      "cell_type": "code",
      "execution_count": null,
      "metadata": {
        "colab": {
          "base_uri": "https://localhost:8080/"
        },
        "id": "4Iz1VXl45PW4",
        "outputId": "69031dbf-9724-4c8e-8439-2cd5d4280cf2"
      },
      "outputs": [
        {
          "name": "stdout",
          "output_type": "stream",
          "text": [
            "Training Set Class Distribution:\n",
            "sentiment\n",
            "Positive    0.670512\n",
            "Negative    0.230864\n",
            "Neutral     0.098623\n",
            "Name: proportion, dtype: float64\n",
            "\n",
            "Validation Set Class Distribution:\n",
            "sentiment\n",
            "Positive    0.670520\n",
            "Negative    0.230859\n",
            "Neutral     0.098621\n",
            "Name: proportion, dtype: float64\n"
          ]
        }
      ],
      "source": [
        "# Stratified sampling to ensure class distribution is maintained\n",
        "train_df, val_df = train_test_split(train_data, test_size=0.2, random_state=42, stratify=train_data['sentiment'])\n",
        "\n",
        "# Check the class distribution in the training set\n",
        "print(\"Training Set Class Distribution:\")\n",
        "print(train_df['sentiment'].value_counts(normalize=True))\n",
        "\n",
        "# Check the class distribution in the validation set\n",
        "print(\"\\nValidation Set Class Distribution:\")\n",
        "print(val_df['sentiment'].value_counts(normalize=True))"
      ]
    },
    {
      "cell_type": "code",
      "execution_count": null,
      "metadata": {
        "colab": {
          "base_uri": "https://localhost:8080/",
          "height": 777
        },
        "id": "MTdUz6Hh59Tk",
        "outputId": "607b12c9-3ad9-495a-ce03-5141ab78f2cd"
      },
      "outputs": [
        {
          "name": "stdout",
          "output_type": "stream",
          "text": [
            "text         93741\n",
            "stars        93741\n",
            "sentiment    93741\n",
            "dtype: int64\n",
            "text         32276\n",
            "stars        32276\n",
            "sentiment    32276\n",
            "dtype: int64\n",
            "text         13788\n",
            "stars        13788\n",
            "sentiment    13788\n",
            "dtype: int64\n"
          ]
        },
        {
          "data": {
            "image/png": "[encoded data removed]",
            "text/plain": [
              "<Figure size 800x600 with 1 Axes>"
            ]
          },
          "metadata": {},
          "output_type": "display_data"
        }
      ],
      "source": [
        "print(train_df[train_df[\"sentiment\"] == \"Positive\"].count())\n",
        "print(train_df[train_df[\"sentiment\"] == \"Negative\"].count())\n",
        "print(train_df[train_df[\"sentiment\"] == \"Neutral\"].count())\n",
        "\n",
        "sns.set(style=\"darkgrid\")\n",
        "plt.figure(figsize=(8, 6))\n",
        "sns.countplot(x='sentiment', data=train_df, palette=\"viridis\")\n",
        "\n",
        "# Adding labels and title\n",
        "plt.xlabel('Sentiment')\n",
        "plt.ylabel('Count')\n",
        "plt.title('Distribution of Sentiments - Train Data')\n",
        "\n",
        "# Display the plot\n",
        "plt.show()"
      ]
    },
    {
      "cell_type": "code",
      "execution_count": null,
      "metadata": {
        "colab": {
          "base_uri": "https://localhost:8080/",
          "height": 777
        },
        "id": "kplCzVbY6QzB",
        "outputId": "ac69d60c-97cd-4b14-bd2e-c39909ec26ac"
      },
      "outputs": [
        {
          "name": "stdout",
          "output_type": "stream",
          "text": [
            "text         23436\n",
            "stars        23436\n",
            "sentiment    23436\n",
            "dtype: int64\n",
            "text         8069\n",
            "stars        8069\n",
            "sentiment    8069\n",
            "dtype: int64\n",
            "text         3447\n",
            "stars        3447\n",
            "sentiment    3447\n",
            "dtype: int64\n"
          ]
        },
        {
          "data": {
            "image/png": "[encoded data removed]",
            "text/plain": [
              "<Figure size 800x600 with 1 Axes>"
            ]
          },
          "metadata": {},
          "output_type": "display_data"
        }
      ],
      "source": [
        "print(val_df[val_df[\"sentiment\"] == \"Positive\"].count())\n",
        "print(val_df[val_df[\"sentiment\"] == \"Negative\"].count())\n",
        "print(val_df[val_df[\"sentiment\"] == \"Neutral\"].count())\n",
        "\n",
        "sns.set(style=\"darkgrid\")\n",
        "plt.figure(figsize=(8, 6))\n",
        "sns.countplot(x='sentiment', data=val_df, palette=\"viridis\")\n",
        "\n",
        "# Adding labels and title\n",
        "plt.xlabel('Sentiment')\n",
        "plt.ylabel('Count')\n",
        "plt.title('Distribution of Sentiments - Val Data')\n",
        "\n",
        "# Display the plot\n",
        "plt.show()"
      ]
    },
    {
      "cell_type": "markdown",
      "metadata": {
        "id": "Y2Yt6T_l6e4p"
      },
      "source": [
        "As we can see in the above graphs, validation and training data also have the same target distribution as the original dataset"
      ]
    },
    {
      "cell_type": "code",
      "execution_count": null,
      "metadata": {
        "id": "ChQyfQRa6pZ4"
      },
      "outputs": [],
      "source": [
        "# Add a new column named 'split' to both train_df and val_df.\n",
        "# In train_df, every row gets the value 'train' in this new column, indicating that these rows belong to the training set.\n",
        "# Similarly, in val_df, every row is labeled 'val', indicating that these rows are part of the validation set.\n",
        "\n",
        "train_df['split'] = 'train'\n",
        "val_df['split'] = 'val'\n",
        "\n",
        "# Merge the training and validation DataFrames into a single DataFrame\n",
        "train_data = pd.concat([train_df, val_df], ignore_index=True)"
      ]
    },
    {
      "cell_type": "code",
      "execution_count": null,
      "metadata": {
        "colab": {
          "base_uri": "https://localhost:8080/",
          "height": 419
        },
        "id": "iRhpZ2-x6v5j",
        "outputId": "1b0ac80d-a309-4c20-aff1-8d94873e287a"
      },
      "outputs": [
        {
          "data": {
            "text/html": [
              "<div>\n",
              "<style scoped>\n",
              "    .dataframe tbody tr th:only-of-type {\n",
              "        vertical-align: middle;\n",
              "    }\n",
              "\n",
              "    .dataframe tbody tr th {\n",
              "        vertical-align: top;\n",
              "    }\n",
              "\n",
              "    .dataframe thead th {\n",
              "        text-align: right;\n",
              "    }\n",
              "</style>\n",
              "<table border=\"1\" class=\"dataframe\">\n",
              "  <thead>\n",
              "    <tr style=\"text-align: right;\">\n",
              "      <th></th>\n",
              "      <th>text</th>\n",
              "      <th>stars</th>\n",
              "      <th>sentiment</th>\n",
              "      <th>split</th>\n",
              "    </tr>\n",
              "  </thead>\n",
              "  <tbody>\n",
              "    <tr>\n",
              "      <th>0</th>\n",
              "      <td>speak experience take side walked everyone wor...</td>\n",
              "      <td>1.0</td>\n",
              "      <td>Negative</td>\n",
              "      <td>train</td>\n",
              "    </tr>\n",
              "    <tr>\n",
              "      <th>1</th>\n",
              "      <td>stopped late lunch nice quiet dining room serv...</td>\n",
              "      <td>4.0</td>\n",
              "      <td>Positive</td>\n",
              "      <td>train</td>\n",
              "    </tr>\n",
              "    <tr>\n",
              "      <th>2</th>\n",
              "      <td>frustrating customer service experience tree z...</td>\n",
              "      <td>1.0</td>\n",
              "      <td>Negative</td>\n",
              "      <td>train</td>\n",
              "    </tr>\n",
              "    <tr>\n",
              "      <th>3</th>\n",
              "      <td>wish nashville spot like trendy little breakfa...</td>\n",
              "      <td>5.0</td>\n",
              "      <td>Positive</td>\n",
              "      <td>train</td>\n",
              "    </tr>\n",
              "    <tr>\n",
              "      <th>4</th>\n",
              "      <td>dream sharp italian always say going try somet...</td>\n",
              "      <td>5.0</td>\n",
              "      <td>Positive</td>\n",
              "      <td>train</td>\n",
              "    </tr>\n",
              "    <tr>\n",
              "      <th>...</th>\n",
              "      <td>...</td>\n",
              "      <td>...</td>\n",
              "      <td>...</td>\n",
              "      <td>...</td>\n",
              "    </tr>\n",
              "    <tr>\n",
              "      <th>174752</th>\n",
              "      <td>stopped lunch today wonderful meal couple doze...</td>\n",
              "      <td>4.0</td>\n",
              "      <td>Positive</td>\n",
              "      <td>val</td>\n",
              "    </tr>\n",
              "    <tr>\n",
              "      <th>174753</th>\n",
              "      <td>hands best service weve restaurant quite altho...</td>\n",
              "      <td>5.0</td>\n",
              "      <td>Positive</td>\n",
              "      <td>val</td>\n",
              "    </tr>\n",
              "    <tr>\n",
              "      <th>174754</th>\n",
              "      <td>dont skip joint tour cool divey places great b...</td>\n",
              "      <td>5.0</td>\n",
              "      <td>Positive</td>\n",
              "      <td>val</td>\n",
              "    </tr>\n",
              "    <tr>\n",
              "      <th>174755</th>\n",
              "      <td>awesome spicy tuna rolls fantastic service fav...</td>\n",
              "      <td>4.0</td>\n",
              "      <td>Positive</td>\n",
              "      <td>val</td>\n",
              "    </tr>\n",
              "    <tr>\n",
              "      <th>174756</th>\n",
              "      <td>need stimulation santa barbara come every time...</td>\n",
              "      <td>4.0</td>\n",
              "      <td>Positive</td>\n",
              "      <td>val</td>\n",
              "    </tr>\n",
              "  </tbody>\n",
              "</table>\n",
              "<p>174757 rows × 4 columns</p>\n",
              "</div>"
            ],
            "text/plain": [
              "                                                     text  stars sentiment  \\\n",
              "0       speak experience take side walked everyone wor...    1.0  Negative   \n",
              "1       stopped late lunch nice quiet dining room serv...    4.0  Positive   \n",
              "2       frustrating customer service experience tree z...    1.0  Negative   \n",
              "3       wish nashville spot like trendy little breakfa...    5.0  Positive   \n",
              "4       dream sharp italian always say going try somet...    5.0  Positive   \n",
              "...                                                   ...    ...       ...   \n",
              "174752  stopped lunch today wonderful meal couple doze...    4.0  Positive   \n",
              "174753  hands best service weve restaurant quite altho...    5.0  Positive   \n",
              "174754  dont skip joint tour cool divey places great b...    5.0  Positive   \n",
              "174755  awesome spicy tuna rolls fantastic service fav...    4.0  Positive   \n",
              "174756  need stimulation santa barbara come every time...    4.0  Positive   \n",
              "\n",
              "        split  \n",
              "0       train  \n",
              "1       train  \n",
              "2       train  \n",
              "3       train  \n",
              "4       train  \n",
              "...       ...  \n",
              "174752    val  \n",
              "174753    val  \n",
              "174754    val  \n",
              "174755    val  \n",
              "174756    val  \n",
              "\n",
              "[174757 rows x 4 columns]"
            ]
          },
          "execution_count": 18,
          "metadata": {},
          "output_type": "execute_result"
        }
      ],
      "source": [
        "train_data"
      ]
    },
    {
      "cell_type": "code",
      "execution_count": null,
      "metadata": {
        "id": "Bw117Pfa7Bca"
      },
      "outputs": [],
      "source": [
        "# Mapping sentiment labels to integers\n",
        "label_mapping = {'Negative': 0, 'Positive': 1, 'Neutral': 2}\n",
        "\n",
        "train_data['sentiment'] = train_data['sentiment'].map(label_mapping)\n",
        "test_data['sentiment'] = test_data['sentiment'].map(label_mapping)"
      ]
    },
    {
      "cell_type": "code",
      "execution_count": null,
      "metadata": {
        "colab": {
          "base_uri": "https://localhost:8080/",
          "height": 204
        },
        "id": "IgEt4XhW7Flw",
        "outputId": "45803d94-1fc3-4cd3-9e4b-ce1002776330"
      },
      "outputs": [
        {
          "data": {
            "text/html": [
              "<div>\n",
              "<style scoped>\n",
              "    .dataframe tbody tr th:only-of-type {\n",
              "        vertical-align: middle;\n",
              "    }\n",
              "\n",
              "    .dataframe tbody tr th {\n",
              "        vertical-align: top;\n",
              "    }\n",
              "\n",
              "    .dataframe thead th {\n",
              "        text-align: right;\n",
              "    }\n",
              "</style>\n",
              "<table border=\"1\" class=\"dataframe\">\n",
              "  <thead>\n",
              "    <tr style=\"text-align: right;\">\n",
              "      <th></th>\n",
              "      <th>text</th>\n",
              "      <th>stars</th>\n",
              "      <th>sentiment</th>\n",
              "      <th>split</th>\n",
              "    </tr>\n",
              "  </thead>\n",
              "  <tbody>\n",
              "    <tr>\n",
              "      <th>0</th>\n",
              "      <td>speak experience take side walked everyone wor...</td>\n",
              "      <td>1.0</td>\n",
              "      <td>0</td>\n",
              "      <td>train</td>\n",
              "    </tr>\n",
              "    <tr>\n",
              "      <th>1</th>\n",
              "      <td>stopped late lunch nice quiet dining room serv...</td>\n",
              "      <td>4.0</td>\n",
              "      <td>1</td>\n",
              "      <td>train</td>\n",
              "    </tr>\n",
              "    <tr>\n",
              "      <th>2</th>\n",
              "      <td>frustrating customer service experience tree z...</td>\n",
              "      <td>1.0</td>\n",
              "      <td>0</td>\n",
              "      <td>train</td>\n",
              "    </tr>\n",
              "    <tr>\n",
              "      <th>3</th>\n",
              "      <td>wish nashville spot like trendy little breakfa...</td>\n",
              "      <td>5.0</td>\n",
              "      <td>1</td>\n",
              "      <td>train</td>\n",
              "    </tr>\n",
              "    <tr>\n",
              "      <th>4</th>\n",
              "      <td>dream sharp italian always say going try somet...</td>\n",
              "      <td>5.0</td>\n",
              "      <td>1</td>\n",
              "      <td>train</td>\n",
              "    </tr>\n",
              "  </tbody>\n",
              "</table>\n",
              "</div>"
            ],
            "text/plain": [
              "                                                text  stars  sentiment  split\n",
              "0  speak experience take side walked everyone wor...    1.0          0  train\n",
              "1  stopped late lunch nice quiet dining room serv...    4.0          1  train\n",
              "2  frustrating customer service experience tree z...    1.0          0  train\n",
              "3  wish nashville spot like trendy little breakfa...    5.0          1  train\n",
              "4  dream sharp italian always say going try somet...    5.0          1  train"
            ]
          },
          "execution_count": 20,
          "metadata": {},
          "output_type": "execute_result"
        }
      ],
      "source": [
        "train_data.head()"
      ]
    },
    {
      "cell_type": "code",
      "execution_count": null,
      "metadata": {
        "colab": {
          "base_uri": "https://localhost:8080/",
          "height": 204
        },
        "id": "WJ8k0wM-7MHn",
        "outputId": "8b2301bf-cf54-4464-e657-ed8c60c56670"
      },
      "outputs": [
        {
          "data": {
            "text/html": [
              "<div>\n",
              "<style scoped>\n",
              "    .dataframe tbody tr th:only-of-type {\n",
              "        vertical-align: middle;\n",
              "    }\n",
              "\n",
              "    .dataframe tbody tr th {\n",
              "        vertical-align: top;\n",
              "    }\n",
              "\n",
              "    .dataframe thead th {\n",
              "        text-align: right;\n",
              "    }\n",
              "</style>\n",
              "<table border=\"1\" class=\"dataframe\">\n",
              "  <thead>\n",
              "    <tr style=\"text-align: right;\">\n",
              "      <th></th>\n",
              "      <th>text</th>\n",
              "      <th>stars</th>\n",
              "      <th>sentiment</th>\n",
              "    </tr>\n",
              "  </thead>\n",
              "  <tbody>\n",
              "    <tr>\n",
              "      <th>0</th>\n",
              "      <td>hidden treasure awesome service delicious food...</td>\n",
              "      <td>5.0</td>\n",
              "      <td>1</td>\n",
              "    </tr>\n",
              "    <tr>\n",
              "      <th>1</th>\n",
              "      <td>family patients since 5 years old 34 trust qua...</td>\n",
              "      <td>5.0</td>\n",
              "      <td>1</td>\n",
              "    </tr>\n",
              "    <tr>\n",
              "      <th>2</th>\n",
              "      <td>rarely get pedicures blue nails practice combi...</td>\n",
              "      <td>5.0</td>\n",
              "      <td>1</td>\n",
              "    </tr>\n",
              "    <tr>\n",
              "      <th>3</th>\n",
              "      <td>came large group may items missing menu lobste...</td>\n",
              "      <td>2.0</td>\n",
              "      <td>0</td>\n",
              "    </tr>\n",
              "    <tr>\n",
              "      <th>4</th>\n",
              "      <td>view great morgans pier bartenders even good s...</td>\n",
              "      <td>2.0</td>\n",
              "      <td>0</td>\n",
              "    </tr>\n",
              "  </tbody>\n",
              "</table>\n",
              "</div>"
            ],
            "text/plain": [
              "                                                text  stars  sentiment\n",
              "0  hidden treasure awesome service delicious food...    5.0          1\n",
              "1  family patients since 5 years old 34 trust qua...    5.0          1\n",
              "2  rarely get pedicures blue nails practice combi...    5.0          1\n",
              "3  came large group may items missing menu lobste...    2.0          0\n",
              "4  view great morgans pier bartenders even good s...    2.0          0"
            ]
          },
          "execution_count": 21,
          "metadata": {},
          "output_type": "execute_result"
        }
      ],
      "source": [
        "test_data.head()"
      ]
    },
    {
      "cell_type": "markdown",
      "source": [
        "As can be seen above, the sentiment column now contains integer values for classification. The labels used are: Negative:0, Positive:1 and Neutral:2."
      ],
      "metadata": {
        "id": "dzf38LIPpX9U"
      }
    },
    {
      "cell_type": "markdown",
      "source": [
        "# Input Data Preperation"
      ],
      "metadata": {
        "id": "7Q8w_kBCiTsu"
      }
    },
    {
      "cell_type": "code",
      "execution_count": null,
      "metadata": {
        "id": "bR9f2CSF7RxS"
      },
      "outputs": [],
      "source": [
        "class_name = ['Negative','Positive','Neutral']"
      ]
    },
    {
      "cell_type": "markdown",
      "source": [
        "'bert-base-uncased' pre-trained BERT model has been used. 'Uncased' means that the model does not make a distinction between uppercase and lowercase letters. For instance, “The” and “the” would be treated as the same word."
      ],
      "metadata": {
        "id": "1bwC9D3wsgSG"
      }
    },
    {
      "cell_type": "code",
      "execution_count": null,
      "metadata": {
        "id": "MF9ihvtmVHdp"
      },
      "outputs": [],
      "source": [
        "PRE_TRAINED_MODEL_NAME = 'bert-base-uncased'"
      ]
    },
    {
      "cell_type": "markdown",
      "source": [
        "\n",
        "*   Setting Up the Device for PyTorch: Setting up a deep learning environment using PyTorch for working with the BERT model from the Hugging Face transformers library.\n",
        "*   Initializing the BERT Tokenizer: BertTokenizer.from_pretrained('bert-base-uncased') loads a tokenizer that is pre-trained on the 'bert-base-uncased' model. This tokenizer is designed to convert text into tokens that BERT understands.\n",
        "\n",
        "The combination of these two lines of code sets up the fundamental components needed for processing data with a BERT model in PyTorch, leveraging GPU acceleration if available. The tokenizer is a critical component in preparing text data for input into BERT, as it converts textual data into a format that the model can understand and process.\n",
        "\n",
        "\n",
        "\n",
        ""
      ],
      "metadata": {
        "id": "IhETL9fhqO3U"
      }
    },
    {
      "cell_type": "code",
      "execution_count": null,
      "metadata": {
        "colab": {
          "base_uri": "https://localhost:8080/",
          "height": 145,
          "referenced_widgets": [
            "3bcee5c16d9548f18447ea9a83a2ed59",
            "eb37417da46948e8b05787b37145bbca",
            "1e16f1afd4cb441a8893185e7da46655",
            "534a57d0a94d43f2bdda1705dd259a06",
            "61569ce0693e45d09717290b1ed1cc46",
            "6f42baccbe0a4808a717af2edbed6e2a",
            "c530f005051f460aab43b6e206d821ae",
            "8fde4300116346528e9310fe0e809d54",
            "0239ebc526df419cb337ec4d63cae4a3",
            "a5783d2f4cfc422590a37d1deeda2757",
            "089e7e741be749c1bc37c4864c2b7a9b",
            "2bf0bf4917004f73b3602fb4a5b75bc3",
            "f701d2f3e1624dd0aedf3876a54cb3a9",
            "53bc39e40f59494081c144db91d58cff",
            "99a20299b09d485eaffdc018d88191aa",
            "936b08485a664e8f9c474feab6abc0e6",
            "216cb5bd0c12403399a6ab7372bd0d04",
            "fb0b210fd888449cb2ab2ac89620635a",
            "ae922ce36f734e93a1f3d5f40b756b26",
            "d17b0ac57a184ed2ab81263ac605c30a",
            "92842faae9a74cdfbd3a2221f01f3301",
            "a21949dcb83149b1bdc71733e1114d18",
            "0c6c04f935484aeaae448573e3353a15",
            "3daf5b9bb90b4ed9973e4c9ac422862b",
            "60cccafad75b476295c20a4ed838929c",
            "13ed4b70330f4aaba67b02d479d22f3d",
            "f960827bfb4c40aa9d21b0a82d4a6927",
            "4945369636c745689e24edd4079b232c",
            "2e72a77c6b3349c886eab3fae36bf668",
            "5373d01e7f2949d08902bfd571183d4a",
            "6837cfdd87904270ab682b76d6e4a259",
            "376beabc710e4888a731eddcf8780a4c",
            "ad039d3aef2f457ab9ecf9ab23307949",
            "7af6af456e5a4b8a8d9a994fd7493034",
            "c0a0392e87b4409cb37304ba499afff6",
            "2a35fa540895402b8c58f0ee98c1c62e",
            "732539ac45f949c98f550af887531146",
            "18b0b95977584e59b87e291f313d168f",
            "8c4a18e882cb4b55adbf2278f7ad3c10",
            "14e8f501f4ea4e598c8d5b45983fc368",
            "0c3f403ecf034e92a95fb18a0ecc5d4f",
            "b256e3810a754ca4b932f97e829d221f",
            "0cfd6170516240ed88f2a8d87bbc7fcf",
            "e1d0a710240f4aa78b121cd35d003662",
            "9fb97e948c6244d199a2db3c36e35d7a",
            "2626f915487b489ba3c8498bc682450a",
            "08727249a5f94337987e8cbd210f727d",
            "aadc18d7a5de4a5bb45c74ed14f43ca5"
          ]
        },
        "id": "Ua28wFby7VQ7",
        "outputId": "94a1e3be-8766-4d93-d891-7d3fe369c9f2"
      },
      "outputs": [
        {
          "data": {
            "application/vnd.jupyter.widget-view+json": {
              "model_id": "9fb97e948c6244d199a2db3c36e35d7a",
              "version_major": 2,
              "version_minor": 0
            },
            "text/plain": [
              "tokenizer_config.json:   0%|          | 0.00/28.0 [00:00<?, ?B/s]"
            ]
          },
          "metadata": {},
          "output_type": "display_data"
        },
        {
          "data": {
            "application/vnd.jupyter.widget-view+json": {
              "model_id": "2626f915487b489ba3c8498bc682450a",
              "version_major": 2,
              "version_minor": 0
            },
            "text/plain": [
              "vocab.txt:   0%|          | 0.00/232k [00:00<?, ?B/s]"
            ]
          },
          "metadata": {},
          "output_type": "display_data"
        },
        {
          "data": {
            "application/vnd.jupyter.widget-view+json": {
              "model_id": "08727249a5f94337987e8cbd210f727d",
              "version_major": 2,
              "version_minor": 0
            },
            "text/plain": [
              "tokenizer.json:   0%|          | 0.00/466k [00:00<?, ?B/s]"
            ]
          },
          "metadata": {},
          "output_type": "display_data"
        },
        {
          "data": {
            "application/vnd.jupyter.widget-view+json": {
              "model_id": "aadc18d7a5de4a5bb45c74ed14f43ca5",
              "version_major": 2,
              "version_minor": 0
            },
            "text/plain": [
              "config.json:   0%|          | 0.00/570 [00:00<?, ?B/s]"
            ]
          },
          "metadata": {},
          "output_type": "display_data"
        }
      ],
      "source": [
        "# configuring PyTorch to use a GPU (if available) for training or processing tasks.\n",
        "# if no GPU is available (torch.cuda.is_available() returns False), it falls back to using the CPU (\"cpu\")\n",
        "\n",
        "device = torch.device(\"cuda:0\" if torch.cuda.is_available() else \"cpu\")\n",
        "tokenizer = BertTokenizer.from_pretrained('bert-base-uncased')\n"
      ]
    },
    {
      "cell_type": "markdown",
      "source": [
        "Analyse the lengths of tokenized versions of text data in the train_data DataFrame using BERT's tokenizer, and then visualize the distribution of these token lengths."
      ],
      "metadata": {
        "id": "GuU83y0vvnbW"
      }
    },
    {
      "cell_type": "code",
      "execution_count": null,
      "metadata": {
        "colab": {
          "base_uri": "https://localhost:8080/",
          "height": 468
        },
        "id": "565IreUU8ZBt",
        "outputId": "598a8a40-9b7c-4bff-945f-050c887d4dc1"
      },
      "outputs": [
        {
          "name": "stderr",
          "output_type": "stream",
          "text": [
            "  0%|          | 0/174757 [00:00<?, ?it/s]Truncation was not explicitly activated but `max_length` is provided a specific value, please use `truncation=True` to explicitly truncate examples to max length. Defaulting to 'longest_first' truncation strategy. If you encode pairs of sequences (GLUE-style) with the tokenizer you can select this strategy more precisely by providing a specific strategy to `truncation`.\n",
            "100%|██████████| 174757/174757 [02:12<00:00, 1315.75it/s]\n"
          ]
        },
        {
          "data": {
            "text/plain": [
              "<Axes: ylabel='Density'>"
            ]
          },
          "execution_count": 25,
          "metadata": {},
          "output_type": "execute_result"
        },
        {
          "data": {
            "image/png": "[encoded data removed]",
            "text/plain": [
              "<Figure size 640x480 with 1 Axes>"
            ]
          },
          "metadata": {},
          "output_type": "display_data"
        }
      ],
      "source": [
        "from tqdm import tqdm\n",
        "token_lens = []\n",
        "for txt in tqdm(train_data.text):\n",
        "  tokens = tokenizer.encode(txt, max_length=256)\n",
        "  token_lens.append(len(tokens))\n",
        "\n",
        "sns.distplot(token_lens)\n"
      ]
    },
    {
      "cell_type": "markdown",
      "source": [
        "Similarly analyse the lengths of tokenized versions of text data in the test_data DataFrame using BERT's tokenizer, and then visualize the distribution of these token lengths."
      ],
      "metadata": {
        "id": "Dga3a-HhwEe3"
      }
    },
    {
      "cell_type": "code",
      "execution_count": null,
      "metadata": {
        "colab": {
          "base_uri": "https://localhost:8080/",
          "height": 468
        },
        "id": "sfCDJkLq-d4D",
        "outputId": "c20aa1a9-214e-4dc1-d499-974eff310558"
      },
      "outputs": [
        {
          "name": "stderr",
          "output_type": "stream",
          "text": [
            "100%|██████████| 13980/13980 [00:10<00:00, 1313.38it/s]\n"
          ]
        },
        {
          "data": {
            "text/plain": [
              "<Axes: ylabel='Density'>"
            ]
          },
          "execution_count": 26,
          "metadata": {},
          "output_type": "execute_result"
        },
        {
          "data": {
            "image/png": "[encoded data removed]",
            "text/plain": [
              "<Figure size 640x480 with 1 Axes>"
            ]
          },
          "metadata": {},
          "output_type": "display_data"
        }
      ],
      "source": [
        "from tqdm import tqdm\n",
        "test_token_lens = []\n",
        "for txt in tqdm(test_data.text):\n",
        "  tokens = tokenizer.encode(txt, max_length=256)\n",
        "  test_token_lens.append(len(tokens))\n",
        "\n",
        "sns.distplot(test_token_lens)\n"
      ]
    },
    {
      "cell_type": "markdown",
      "source": [
        "The above graphs are useful for understanding the range and common lengths of tokens in the texts which is helpful in deciding the appropriate maximum sequence length for input to a BERT model. As can be inferred that very few tokens are of length greater than 150, I have chosen the length for MAX_LEN to be 150 (consdering computation cost and resources as well)."
      ],
      "metadata": {
        "id": "YhCVTHfLwbXI"
      }
    },
    {
      "cell_type": "code",
      "execution_count": null,
      "metadata": {
        "id": "HKZT9chK-mpq"
      },
      "outputs": [],
      "source": [
        "MAX_LEN = 150"
      ]
    },
    {
      "cell_type": "markdown",
      "source": [
        "The below code defines a custom Dataset class named ReviewDataset for use with PyTorch, specifically designed for handling a sentiment analysis task with BERT. This class is a subclass of PyTorch's Dataset and is tailored to process text data (reviews) and their corresponding targets (sentiments)."
      ],
      "metadata": {
        "id": "QmxmQo7Y0Vks"
      }
    },
    {
      "cell_type": "code",
      "execution_count": null,
      "metadata": {
        "id": "P3bzQMmV-o52"
      },
      "outputs": [],
      "source": [
        "# __init__ method initializes the dataset with four parameters: reviews, targets, tokenizer, and max_len.\n",
        "# __len__ method returns the number of items in the dataset, which is essential for iterating over the dataset during training and evaluation.\n",
        "# __getitem__ method retrieves a single item from the dataset at the specified index (item). It tokenizes the review text and prepares the data in the format required by BERT.\n",
        "# encode_plus method from the tokenizer is used to handle both tokenization and necessary padding/truncation to max_len.\n",
        "# The method returns a dictionary with the original review text ('review_text'), tokenized and padded input_ids, the attention mask ('attention_mask'), and the sentiment target ('targets').\n",
        "# The attention mask is used by BERT to ignore (mask) the padding tokens during processing.\n",
        "\n",
        "\n",
        "from torch.utils.data import Dataset, DataLoader\n",
        "class ReviewDataset(Dataset):\n",
        "    def __init__(self,reviews,targets,tokenizer,max_len):\n",
        "        self.reviews = reviews\n",
        "        self.targets = targets\n",
        "        self.tokenizer = tokenizer\n",
        "        self.max_len = max_len\n",
        "\n",
        "    def __len__(self):\n",
        "        return len(self.reviews)\n",
        "\n",
        "    def __getitem__(self,item):\n",
        "        review = str(self.reviews[item])\n",
        "        target = self.targets[item]\n",
        "\n",
        "        encoding = self.tokenizer.encode_plus(\n",
        "            review,\n",
        "            add_special_tokens=True,\n",
        "            max_length=self.max_len,\n",
        "            return_token_type_ids=False,\n",
        "            pad_to_max_length=True,\n",
        "            return_attention_mask=True,\n",
        "            return_tensors='pt',\n",
        "            truncation=True\n",
        "            )\n",
        "\n",
        "        return {\n",
        "            'review_text': review,\n",
        "            'input_ids': encoding['input_ids'].flatten(),\n",
        "            'attention_mask': encoding['attention_mask'].flatten(),\n",
        "            'targets': torch.tensor(target, dtype=torch.long)\n",
        "            }"
      ]
    },
    {
      "cell_type": "markdown",
      "source": [
        "The above code is used for Data Processing for BERT.\n",
        "* The review texts are tokenized, and special tokens ([CLS] and [SEP]) are added.\n",
        "* Sequences are padded or truncated to max_len, ensuring consistent input size.\n",
        "* return_attention_mask=True generates an attention mask for differentiating real tokens from padding tokens.\n",
        "* return_tensors='pt' returns PyTorch tensors, which are the required format for input data in PyTorch models.\n",
        "\n",
        "\n",
        "Using this ReviewDataset class, we can create a PyTorch DataLoader for both training and evaluation, which will handle the batch processing of review texts and their conversion into a format suitable for training a BERT model. This class is an essential component for efficiently preprocessing text data and feeding it into a deep learning model for sentiment analysis task."
      ],
      "metadata": {
        "id": "z4fq_3vt2QJV"
      }
    },
    {
      "cell_type": "markdown",
      "source": [
        "Now we create two new DataFrames, df_train and df_val, by splitting the train_data DataFrame.\n",
        "\n",
        "train_data[train_data['split']=='train'] filters rows from train_data where the value in the 'split' column is 'train'. This subset is assigned to df_train and will be used for training the model.\n",
        "\n",
        "Similarly, train_data[train_data['split']=='val'] filters rows for the validation set, where 'split' is 'val', and assigns them to df_val. This subset is used for validating the model during the training process."
      ],
      "metadata": {
        "id": "8SzeieTJ4k-8"
      }
    },
    {
      "cell_type": "code",
      "execution_count": null,
      "metadata": {
        "id": "7rL3y9sS-yHH"
      },
      "outputs": [],
      "source": [
        "df_train = train_data[train_data['split']=='train']\n",
        "df_val = train_data[train_data['split']=='val']\n"
      ]
    },
    {
      "cell_type": "code",
      "execution_count": null,
      "metadata": {
        "colab": {
          "base_uri": "https://localhost:8080/"
        },
        "id": "Z3FQn1N-_Unp",
        "outputId": "c956c899-32d3-4eb0-f6d5-7d26b946b4e8"
      },
      "outputs": [
        {
          "data": {
            "text/plain": [
              "((139805, 4), (34952, 4), (13980, 3))"
            ]
          },
          "execution_count": 30,
          "metadata": {},
          "output_type": "execute_result"
        }
      ],
      "source": [
        "# Shape of the data frames\n",
        "df_train.shape, df_val.shape, test_data.shape"
      ]
    },
    {
      "cell_type": "markdown",
      "source": [
        "Next we compute class weights for the dataset in order to handle imbalance within the sentiment classes in the review dataset (e.g., there are far more Positive reviews than Negative or Neutral ones). This makes the model pay more attention to the minority classes. This often leads to better performance, especially for the underrepresented classes."
      ],
      "metadata": {
        "id": "tWAOxAmq6NKi"
      }
    },
    {
      "cell_type": "code",
      "execution_count": null,
      "metadata": {
        "id": "31ENF_6d_cTO"
      },
      "outputs": [],
      "source": [
        "from sklearn.utils import class_weight\n",
        "\n",
        "class_weights = class_weight.compute_class_weight(class_weight='balanced',\n",
        "                                                 classes=np.unique(df_train.sentiment.values),\n",
        "                                                 y=df_train.sentiment.values)"
      ]
    },
    {
      "cell_type": "markdown",
      "source": [
        "The create_data_loader method is designed to create a PyTorch DataLoader for a given dataset. This DataLoader is an essential component in the training pipeline for the BERT model, as it automates the process of loading batches of data. This function abstracts the complexity of data handling,"
      ],
      "metadata": {
        "id": "j3IZ8HWs_SFp"
      }
    },
    {
      "cell_type": "code",
      "execution_count": null,
      "metadata": {
        "id": "WMq190F7_mYC"
      },
      "outputs": [],
      "source": [
        "def create_data_loader(df,tokenizer,max_len,batch_size):\n",
        "    ds = ReviewDataset(\n",
        "        reviews = df.text.to_numpy(),\n",
        "        targets = df.sentiment.to_numpy(),\n",
        "        tokenizer = tokenizer,\n",
        "        max_len=max_len)\n",
        "\n",
        "    return DataLoader(ds,\n",
        "                      batch_size=batch_size,\n",
        "                      num_workers=4)"
      ]
    },
    {
      "cell_type": "markdown",
      "source": [
        "Creating PyTorch DataLoader instances for training, validation, and testing datasets"
      ],
      "metadata": {
        "id": "15YmPrhh_27G"
      }
    },
    {
      "cell_type": "code",
      "execution_count": null,
      "metadata": {
        "id": "9R-dY0pj_qOn"
      },
      "outputs": [],
      "source": [
        "BATCH_SIZE = 32\n",
        "MAX_LEN = 150\n",
        "train_data_loader = create_data_loader(df_train, tokenizer, MAX_LEN, BATCH_SIZE)\n",
        "val_data_loader = create_data_loader(df_val, tokenizer, MAX_LEN, BATCH_SIZE)\n",
        "test_data_loader = create_data_loader(test_data, tokenizer, MAX_LEN, BATCH_SIZE)"
      ]
    },
    {
      "cell_type": "markdown",
      "source": [
        "BATCH_SIZE is set to 32, meaning each batch of data fed into the model during training or evaluation will consist of 32 examples.\n",
        "\n",
        "MAX_LEN is set to 150, which is the maximum length of the tokenized input sequences. If a sequence is shorter than this, it will be padded; if it's longer, it will be truncated.\n",
        "\n",
        "Each data loader will process the respective dataset using the specified tokenizer, with sequences padded or truncated to MAX_LEN, and will load the data in batches of BATCH_SIZE.\n",
        "\n",
        "The training data loader (train_data_loader) will be used to feed data to the model during the training phase.\n",
        "\n",
        "The validation data loader (val_data_loader) will be used to evaluate the model's performance on unseen data after each training epoch, allowing for adjustments and improvements.\n",
        "\n",
        "The testing data loader (test_data_loader) will be used for the final evaluation of the model's performance after the training process is complete."
      ],
      "metadata": {
        "id": "tallpd2QATPj"
      }
    },
    {
      "cell_type": "markdown",
      "source": [
        "# Transformer Implementation"
      ],
      "metadata": {
        "id": "2pxcMX1ZyUMp"
      }
    },
    {
      "cell_type": "markdown",
      "source": [
        "Loading the pre-trained BERT model using the transformers library by Hugging Face."
      ],
      "metadata": {
        "id": "JzvMpGRTBzJv"
      }
    },
    {
      "cell_type": "code",
      "execution_count": null,
      "metadata": {
        "colab": {
          "base_uri": "https://localhost:8080/",
          "height": 49,
          "referenced_widgets": [
            "04f5a91860c54cf6a535a99e77a90aa6",
            "dbe1a28b26d248aa8ff4d748a51e1a64",
            "675d92842da841989e449ef6b620b751",
            "9f813168fc31488bad5db0d889d38be0",
            "8ca6f5a75c54455abd5d20a8ab501385",
            "162a7def2cbd47e9922c880b322003e0",
            "f675addf7a6c48679d36297b308281a6",
            "a1efd28a780d42879ce61d182520b035",
            "dc49dbdead144edaa83615cc1e80cbcc",
            "124cf4e91f6b406996904ab04387c3b1",
            "e736ae32ab9a473baff6124a6af8f0c8",
            "7cc52f869e0f4dee9d4a0ae717c01028"
          ]
        },
        "id": "RWttkkgtA9IJ",
        "outputId": "c1cffab3-2dda-496c-fa3e-b85d99d24b2d"
      },
      "outputs": [
        {
          "data": {
            "application/vnd.jupyter.widget-view+json": {
              "model_id": "7cc52f869e0f4dee9d4a0ae717c01028",
              "version_major": 2,
              "version_minor": 0
            },
            "text/plain": [
              "model.safetensors:   0%|          | 0.00/440M [00:00<?, ?B/s]"
            ]
          },
          "metadata": {},
          "output_type": "display_data"
        }
      ],
      "source": [
        "bert_model = BertModel.from_pretrained('bert-base-uncased', return_dict=False)"
      ]
    },
    {
      "cell_type": "markdown",
      "source": [
        "Creating a Fine Tuned model:"
      ],
      "metadata": {
        "id": "TpTJ__DPGRjx"
      }
    },
    {
      "cell_type": "markdown",
      "source": [
        "The below class SentimentClassifier is a custom neural network architecture for sentiment analysis, built using PyTorch and integrating the BERT model. This class is a subclass of nn.Module, which is the base class for all neural network modules in PyTorch. As can be seen below the output of BERT model is passed through additional layers (dropout, linear layers, ReLU and batch normalisation) to produce the final output class."
      ],
      "metadata": {
        "id": "7pYOF53MDXkT"
      }
    },
    {
      "cell_type": "code",
      "execution_count": null,
      "metadata": {
        "id": "omHav23rBMdM"
      },
      "outputs": [],
      "source": [
        "# the __init__ method initializes the classifier with the number of output classes\n",
        "# The forward method defines the forward pass of the classifier. It takes input_ids and attention_mask as inputs, which are required by BERT to process the text data.\n",
        "# The output of BERT (pooled_output) is passed through the additional layers (dropout, linear layers, ReLU, batch normalization) to produce the final sentiment class predictions.\n",
        "\n",
        "\n",
        "class SentimentClassifier(nn.Module):\n",
        "  def __init__(self, n_classes):\n",
        "    super(SentimentClassifier, self).__init__()\n",
        "    self.bert = BertModel.from_pretrained('bert-base-uncased', return_dict=False)\n",
        "    self.drop = nn.Dropout(p=0.3)\n",
        "    self.linear1 = nn.Linear(self.bert.config.hidden_size, 512)  # First additional linear layer\n",
        "    self.relu = nn.ReLU()  # ReLU activation\n",
        "    self.batchnorm = nn.BatchNorm1d(512)  # Batch normalization\n",
        "    self.linear2 = nn.Linear(512, 128)  # Second additional linear layer\n",
        "    self.out = nn.Linear(128, n_classes)  # Final output layer\n",
        "\n",
        "  def forward(self, input_ids, attention_mask):\n",
        "    _, pooled_output = self.bert(\n",
        "      input_ids=input_ids,\n",
        "      attention_mask=attention_mask,\n",
        "      return_dict=False\n",
        "    )\n",
        "\n",
        "    output = self.drop(pooled_output)\n",
        "    output = self.linear1(output)\n",
        "    output = self.relu(output)\n",
        "    output = self.batchnorm(output)\n",
        "    output = self.linear2(output)\n",
        "    return self.out(output)"
      ]
    },
    {
      "cell_type": "markdown",
      "source": [
        "This class defines a sentiment analysis model that leverages the power of BERT for understanding the context and content of textual data, enhanced with additional layers to tailor it to the specific task of sentiment classification."
      ],
      "metadata": {
        "id": "gJOdhyYAFswg"
      }
    },
    {
      "cell_type": "code",
      "execution_count": null,
      "metadata": {
        "id": "mRlamGJmBeTL"
      },
      "outputs": [],
      "source": [
        "# initialize an instance of the SentimentClassifier class and move the model to a specified computing device (either CPU or GPU).\n",
        "model = SentimentClassifier(len(class_name))\n",
        "model = model.to(device)"
      ]
    },
    {
      "cell_type": "markdown",
      "source": [
        "Setting up the training environment for sentiment analysis:"
      ],
      "metadata": {
        "id": "wnEKq7ZaIbeP"
      }
    },
    {
      "cell_type": "code",
      "execution_count": null,
      "metadata": {
        "id": "izwOPu1gBjv9"
      },
      "outputs": [],
      "source": [
        "import math\n",
        "import os\n",
        "\n",
        "EPOCHS = 4\n",
        "optimizer = SGD(model.parameters(), lr=0.01, momentum=0.9)\n",
        "total_steps = len(train_data_loader) * EPOCHS\n",
        "scheduler = get_linear_schedule_with_warmup(\n",
        "  optimizer,\n",
        "  num_warmup_steps=0,\n",
        "  num_training_steps=total_steps\n",
        ")\n",
        "class_weights = torch.FloatTensor(class_weights).to(device)\n",
        "weight=class_weights\n",
        "loss_fn = nn.CrossEntropyLoss(weight=weight).to(device)"
      ]
    },
    {
      "cell_type": "markdown",
      "source": [
        "SGD optimiser has been used to optimise the loss function to reduce the error.\n",
        "\n",
        "The hyper parameters for the SGD optimiser used are:\n",
        "\n",
        "lr=0.01: This is the learning rate.\n",
        "\n",
        "momentum=0.9: Momentum helps accelerate SGD in the relevant direction and dampens oscillations.\n",
        "\n",
        "The learning rate is a crucial hyperparameter that influences how much the model weights are updated during training."
      ],
      "metadata": {
        "id": "W4BYDq-wIT2C"
      }
    },
    {
      "cell_type": "markdown",
      "metadata": {
        "id": "2n8dxtn5Bsaq"
      },
      "source": [
        "The train_epoch function shown below trains the model for one epoch. It is designed to train the model using the provided data loader and then return the training accuracy and average loss. This function takes several arguments: the model to be trained, the data_loader containing the training data, the loss_fn (loss function), the optimizer, the device (CPU or GPU), the scheduler for adjusting the learning rate, and the number of examples (n_examples) in the training dataset. This method performs the following tasks:\n",
        "\n",
        "\n",
        "*   feeding data through the model\n",
        "*   Training Loop\n",
        "*   Forward Pass\n",
        "*   Calculating Loss and Back Propagation\n",
        "*   Tracking Performance"
      ]
    },
    {
      "cell_type": "code",
      "execution_count": null,
      "metadata": {
        "id": "TN3JjYfxBsKW"
      },
      "outputs": [],
      "source": [
        "def train_epoch(model,data_loader,loss_fn,optimizer,device,scheduler,n_examples):\n",
        "    model = model.train()\n",
        "    losses = []\n",
        "    correct_predictions = 0\n",
        "\n",
        "    for data in data_loader:\n",
        "        input_ids = data['input_ids'].to(device)\n",
        "        attention_mask = data['attention_mask'].to(device)\n",
        "        targets = data['targets'].to(device)\n",
        "\n",
        "        outputs = model(\n",
        "            input_ids=input_ids,\n",
        "            attention_mask=attention_mask\n",
        "            )\n",
        "        _, preds = torch.max(outputs, dim=1)\n",
        "        loss = loss_fn(outputs,targets)\n",
        "\n",
        "        correct_predictions += torch.sum(preds == targets)\n",
        "        losses.append(loss.item())\n",
        "\n",
        "        loss.backward()\n",
        "        nn.utils.clip_grad_norm_(model.parameters(), max_norm=1.0)\n",
        "        optimizer.step()\n",
        "        scheduler.step()\n",
        "        optimizer.zero_grad()\n",
        "\n",
        "    return correct_predictions.double() / n_examples, np.mean(losses)\n"
      ]
    },
    {
      "cell_type": "markdown",
      "metadata": {
        "id": "nmvQ7CFeB7v0"
      },
      "source": [
        "The 'eval_model' function is critical for understanding how well the model performs, typically on validation or test data.\n",
        "\n",
        "It performs the fllowing tasks:\n",
        "\n",
        "- Loop Over the Dataset - The function iterates over batches of data from the data_loader.\n",
        "For each batch, input_ids, attention_mask, and targets are loaded onto the specified device.\n",
        "- Forward Pass - The model performs a forward pass with the input data and attention mask.\n",
        "- Loss and Accuracy Calculation - Calculates the loss for the current batch by comparing the model's outputs with the true targets.\n",
        "- Return Values - The function returns two values:\n",
        "\n",
        "  - correct_predictions.double() / n_examples: This is the accuracy of the model on the dataset, calculated as the total number of correct predictions divided by the total number of examples.\n",
        "\n",
        "  - np.mean(losses): This is the average loss over all batches in the dataset."
      ]
    },
    {
      "cell_type": "code",
      "execution_count": null,
      "metadata": {
        "id": "yMEd1tFhBzXC"
      },
      "outputs": [],
      "source": [
        "def eval_model(model, data_loader, loss_fn, device, n_examples):\n",
        "  model = model.eval()\n",
        "  losses = []\n",
        "  correct_predictions = 0\n",
        "  with torch.no_grad():\n",
        "    for d in data_loader:\n",
        "      input_ids = d[\"input_ids\"].to(device)\n",
        "      attention_mask = d[\"attention_mask\"].to(device)\n",
        "      targets = d[\"targets\"].to(device)\n",
        "      outputs = model(\n",
        "        input_ids=input_ids,\n",
        "        attention_mask=attention_mask\n",
        "      )\n",
        "      _, preds = torch.max(outputs, dim=1)\n",
        "      loss = loss_fn(outputs, targets)\n",
        "      correct_predictions += torch.sum(preds == targets)\n",
        "      losses.append(loss.item())\n",
        "  return correct_predictions.double() / n_examples, np.mean(losses)"
      ]
    },
    {
      "cell_type": "markdown",
      "source": [],
      "metadata": {
        "id": "hB04pTr4NECp"
      }
    },
    {
      "cell_type": "markdown",
      "source": [
        "# Training the Model"
      ],
      "metadata": {
        "id": "LReWJt5yNFkm"
      }
    },
    {
      "cell_type": "markdown",
      "source": [
        "In the below code, we call the train_epoch method. This training loop involves training and evaluating the model. It includes:\n",
        "\n",
        "- Continuous tracking and recording of performance metrics.\n",
        "- Model checkpointing to save the best-performing model.\n",
        "- Verbose output for monitoring progress during training."
      ],
      "metadata": {
        "id": "7O4IvBxoOMOs"
      }
    },
    {
      "cell_type": "code",
      "execution_count": null,
      "metadata": {
        "id": "rKMs_ynrUZHI",
        "outputId": "6855cece-2d98-4263-fd4f-9f8a846ae659"
      },
      "outputs": [
        {
          "name": "stdout",
          "output_type": "stream",
          "text": [
            "Epoch 1/4\n",
            "----------\n",
            "Train loss 0.3826068970350249 accuracy 0.8649762168735023\n",
            "Val   loss 0.30624824282794183 accuracy 0.8852426184481574\n",
            "\n",
            "Epoch 2/4\n",
            "----------\n",
            "Train loss 0.2628118157809701 accuracy 0.9056185401094381\n",
            "Val   loss 0.32890444739115887 accuracy 0.8860723277637903\n",
            "\n",
            "Epoch 3/4\n",
            "----------\n",
            "Train loss 0.19683618020073593 accuracy 0.9327277279067272\n",
            "Val   loss 0.3878967016049186 accuracy 0.8815232318608377\n",
            "\n",
            "Epoch 4/4\n",
            "----------\n",
            "Train loss 0.15484328184309434 accuracy 0.9507027645649297\n",
            "Val   loss 0.4584501085916665 accuracy 0.882209887846189\n",
            "\n"
          ]
        }
      ],
      "source": [
        "from collections import defaultdict\n",
        "history = defaultdict(list)\n",
        "best_accuracy = 0\n",
        "for epoch in range(EPOCHS):\n",
        "    print(f'Epoch {epoch + 1}/{EPOCHS}')\n",
        "    print('-' * 10)\n",
        "    train_acc, train_loss = train_epoch(\n",
        "        model,\n",
        "        train_data_loader,\n",
        "        loss_fn,\n",
        "        optimizer,\n",
        "        device,\n",
        "        scheduler,\n",
        "        len(df_train)\n",
        "    )\n",
        "    print(f'Train loss {train_loss} accuracy {train_acc}')\n",
        "    val_acc, val_loss = eval_model(\n",
        "        model,\n",
        "        val_data_loader,\n",
        "        loss_fn,\n",
        "        device,\n",
        "        len(df_val)\n",
        "    )\n",
        "    print(f'Val   loss {val_loss} accuracy {val_acc}')\n",
        "    print()\n",
        "    history['train_acc'].append(train_acc)\n",
        "    history['train_loss'].append(train_loss)\n",
        "    history['val_acc'].append(val_acc)\n",
        "    history['val_loss'].append(val_loss)\n",
        "    if val_acc > best_accuracy:\n",
        "        torch.save({\n",
        "            'epoch': epoch,\n",
        "            'model_state_dict': model.state_dict(),\n",
        "            'history': history,\n",
        "            'best_accuracy': best_accuracy,\n",
        "        }, './best_model_state.bin')\n",
        "        best_accuracy = val_acc"
      ]
    },
    {
      "cell_type": "markdown",
      "source": [
        "The training loss, training accuracy, validation loss and validation accuracy for each epoch is represented above."
      ],
      "metadata": {
        "id": "KR2mTYfROx_2"
      }
    },
    {
      "cell_type": "markdown",
      "source": [
        "The model with best validation accuracy is saved. (corresponding to Epoch 2)"
      ],
      "metadata": {
        "id": "2gwKYORmP4uo"
      }
    },
    {
      "cell_type": "code",
      "execution_count": null,
      "metadata": {
        "id": "C-z1ld5ZUh98"
      },
      "outputs": [],
      "source": [
        "\n",
        "torch.save({\n",
        "    'epoch': epoch,\n",
        "    'model_state_dict': model.state_dict(),\n",
        "    'history': history,\n",
        "    'best_accuracy': best_accuracy,\n",
        "}, \"model_strat_test\")"
      ]
    },
    {
      "cell_type": "markdown",
      "source": [
        "Loading the best model and ealuating it"
      ],
      "metadata": {
        "id": "DP0nUJK5Q3cn"
      }
    },
    {
      "cell_type": "code",
      "execution_count": null,
      "metadata": {
        "id": "RF93gGvMUi08",
        "outputId": "cd66ed66-78d1-4cd8-c513-7973f69cc397"
      },
      "outputs": [
        {
          "data": {
            "text/plain": [
              "SentimentClassifier(\n",
              "  (bert): BertModel(\n",
              "    (embeddings): BertEmbeddings(\n",
              "      (word_embeddings): Embedding(30522, 768, padding_idx=0)\n",
              "      (position_embeddings): Embedding(512, 768)\n",
              "      (token_type_embeddings): Embedding(2, 768)\n",
              "      (LayerNorm): LayerNorm((768,), eps=1e-12, elementwise_affine=True)\n",
              "      (dropout): Dropout(p=0.1, inplace=False)\n",
              "    )\n",
              "    (encoder): BertEncoder(\n",
              "      (layer): ModuleList(\n",
              "        (0-11): 12 x BertLayer(\n",
              "          (attention): BertAttention(\n",
              "            (self): BertSelfAttention(\n",
              "              (query): Linear(in_features=768, out_features=768, bias=True)\n",
              "              (key): Linear(in_features=768, out_features=768, bias=True)\n",
              "              (value): Linear(in_features=768, out_features=768, bias=True)\n",
              "              (dropout): Dropout(p=0.1, inplace=False)\n",
              "            )\n",
              "            (output): BertSelfOutput(\n",
              "              (dense): Linear(in_features=768, out_features=768, bias=True)\n",
              "              (LayerNorm): LayerNorm((768,), eps=1e-12, elementwise_affine=True)\n",
              "              (dropout): Dropout(p=0.1, inplace=False)\n",
              "            )\n",
              "          )\n",
              "          (intermediate): BertIntermediate(\n",
              "            (dense): Linear(in_features=768, out_features=3072, bias=True)\n",
              "            (intermediate_act_fn): GELUActivation()\n",
              "          )\n",
              "          (output): BertOutput(\n",
              "            (dense): Linear(in_features=3072, out_features=768, bias=True)\n",
              "            (LayerNorm): LayerNorm((768,), eps=1e-12, elementwise_affine=True)\n",
              "            (dropout): Dropout(p=0.1, inplace=False)\n",
              "          )\n",
              "        )\n",
              "      )\n",
              "    )\n",
              "    (pooler): BertPooler(\n",
              "      (dense): Linear(in_features=768, out_features=768, bias=True)\n",
              "      (activation): Tanh()\n",
              "    )\n",
              "  )\n",
              "  (drop): Dropout(p=0.3, inplace=False)\n",
              "  (linear1): Linear(in_features=768, out_features=512, bias=True)\n",
              "  (relu): ReLU()\n",
              "  (batchnorm): BatchNorm1d(512, eps=1e-05, momentum=0.1, affine=True, track_running_stats=True)\n",
              "  (linear2): Linear(in_features=512, out_features=128, bias=True)\n",
              "  (out): Linear(in_features=128, out_features=3, bias=True)\n",
              ")"
            ]
          },
          "execution_count": 45,
          "metadata": {},
          "output_type": "execute_result"
        }
      ],
      "source": [
        "model = SentimentClassifier(len(class_name))\n",
        "model.load_state_dict(torch.load(\"model_strat_test\")[\"model_state_dict\"])\n",
        "model.eval()\n",
        "model.to(device)"
      ]
    },
    {
      "cell_type": "markdown",
      "source": [
        "Training Curve showing Training accuracy vs Validation accuracyT"
      ],
      "metadata": {
        "id": "2xCRL07NRQZc"
      }
    },
    {
      "cell_type": "code",
      "execution_count": null,
      "metadata": {
        "id": "Q6w2d8ZUT6Kh",
        "outputId": "3ed490ee-1cc8-44b7-9eb2-07b921d7ecf5"
      },
      "outputs": [
        {
          "data": {
            "image/png": "[encoded data removed]",
            "text/plain": [
              "<Figure size 640x480 with 1 Axes>"
            ]
          },
          "metadata": {},
          "output_type": "display_data"
        }
      ],
      "source": [
        "train_acc_cpu = [acc.item() for acc in history['train_acc']]\n",
        "val_acc_cpu = [acc.item() for acc in history['val_acc']]\n",
        "\n",
        "plt.plot(train_acc_cpu, label='train accuracy')\n",
        "plt.plot(val_acc_cpu, label='validation accuracy')\n",
        "plt.title('Training history')\n",
        "plt.ylabel('Accuracy')\n",
        "plt.xlabel('Epoch')\n",
        "plt.legend()\n",
        "plt.ylim([0, 1])\n",
        "plt.show()"
      ]
    },
    {
      "cell_type": "markdown",
      "source": [
        "Training Curve showing Training loss vs Validation loss"
      ],
      "metadata": {
        "id": "gswCKfcYRcZJ"
      }
    },
    {
      "cell_type": "code",
      "execution_count": null,
      "metadata": {
        "id": "0a6ObKbqRJMz",
        "outputId": "30ebeef9-315e-4330-99b1-126aa56797cc"
      },
      "outputs": [
        {
          "data": {
            "image/png": "[encoded data removed]",
            "text/plain": [
              "<Figure size 640x480 with 1 Axes>"
            ]
          },
          "metadata": {},
          "output_type": "display_data"
        }
      ],
      "source": [
        "train_acc_cpu = [acc.item() for acc in history['train_loss']]\n",
        "val_acc_cpu = [acc.item() for acc in history['val_loss']]\n",
        "\n",
        "plt.plot(train_acc_cpu, label='Training Loss')\n",
        "plt.plot(val_acc_cpu, label='Validation Loss')\n",
        "plt.title('Training history')\n",
        "plt.ylabel('Loss')\n",
        "plt.xlabel('Epoch')\n",
        "plt.legend()\n",
        "plt.ylim([0, 1])\n",
        "plt.show()"
      ]
    },
    {
      "cell_type": "markdown",
      "source": [
        "Inference based on these graphs:\n",
        "\n",
        "1. Training Performance:\n",
        "\n",
        "Loss: The training loss consistently decreases from 0.3826 in the first epoch to 0.1548 in the fourth epoch. This indicates that the model is effectively learning from the training data, as it is getting better at minimizing the loss function over time.\n",
        "\n",
        "Accuracy: Similarly, the training accuracy improves from 86.50% to 95.07%. This improvement suggests that the model is becoming increasingly adept at correctly classifying the training data.\n",
        "\n",
        "Validation Performance:\n",
        "\n",
        "Loss: The validation loss decreases from the first epoch to the second, but then increases in the third and fourth epochs. The initial decrease is a good sign, indicating that the model is generalizing well. However, the subsequent increase might be a sign of overfitting, where the model learns patterns specific to the training data that do not generalize well to unseen data.\n",
        "\n",
        "Accuracy: The validation accuracy peaks at 88.61% in the second epoch and then slightly decreases. This peak followed by a decrease, alongside increasing loss, reinforces the possibility of overfitting in the later epochs.\n",
        "\n",
        "Overfitting Indications:\n",
        "The increasing gap between training and validation accuracy, and the rising validation loss in epochs 3 and 4, suggest that the model may be starting to overfit. Overfitting occurs when a model learns the training data too well, including noise and fluctuations, which negatively impacts its performance on new, unseen data.\n",
        "\n",
        "Thus the model showing the best validation accuracy at epoch 2 is saves and is used to get predictions on the test data.\n"
      ],
      "metadata": {
        "id": "Gn1dP3MhRqWu"
      }
    },
    {
      "cell_type": "markdown",
      "source": [
        "# Result Analysis"
      ],
      "metadata": {
        "id": "z_duWqKlRCyi"
      }
    },
    {
      "cell_type": "markdown",
      "source": [
        "The best model has been loaded previously, now we evaluate it."
      ],
      "metadata": {
        "id": "RIOoz4bJSNll"
      }
    },
    {
      "cell_type": "code",
      "execution_count": null,
      "metadata": {
        "id": "578UP-xRROqu",
        "outputId": "ebe56c01-d68c-41c6-d3d8-2d5e47b51d21"
      },
      "outputs": [
        {
          "data": {
            "text/plain": [
              "0.8866237482117311"
            ]
          },
          "execution_count": 49,
          "metadata": {},
          "output_type": "execute_result"
        }
      ],
      "source": [
        "test_acc, _ = eval_model(\n",
        "  model,\n",
        "  test_data_loader,\n",
        "  loss_fn,\n",
        "  device,\n",
        "  len(test_data)\n",
        ")\n",
        "test_acc.item()\n"
      ]
    },
    {
      "cell_type": "markdown",
      "source": [
        "The test accuracy is 0.8866 as shown above."
      ],
      "metadata": {
        "id": "mnysXJEASTwG"
      }
    },
    {
      "cell_type": "markdown",
      "source": [
        "The below method is being used to collect and store model predictions, probabilities, and actual labels, along with the review texts. It gives detailed evaluations of the model's performance."
      ],
      "metadata": {
        "id": "u4fWBEqGS_Np"
      }
    },
    {
      "cell_type": "code",
      "execution_count": null,
      "metadata": {
        "id": "DAR_FiR6RTLn"
      },
      "outputs": [],
      "source": [
        "def get_predictions(model, data_loader):\n",
        "  model = model.eval()\n",
        "  review_texts = []\n",
        "  predictions = []\n",
        "  prediction_probs = []\n",
        "  real_values = []\n",
        "  with torch.no_grad():\n",
        "    for d in data_loader:\n",
        "      texts = d[\"review_text\"]\n",
        "      input_ids = d[\"input_ids\"].to(device)\n",
        "      attention_mask = d[\"attention_mask\"].to(device)\n",
        "      targets = d[\"targets\"].to(device)\n",
        "      outputs = model(\n",
        "        input_ids=input_ids,\n",
        "        attention_mask=attention_mask\n",
        "      )\n",
        "      _, preds = torch.max(outputs, dim=1)\n",
        "      review_texts.extend(texts)\n",
        "      predictions.extend(preds)\n",
        "      prediction_probs.extend(outputs)\n",
        "      real_values.extend(targets)\n",
        "  predictions = torch.stack(predictions).cpu()\n",
        "  prediction_probs = torch.stack(prediction_probs).cpu()\n",
        "  real_values = torch.stack(real_values).cpu()\n",
        "  return review_texts, predictions, prediction_probs, real_values"
      ]
    },
    {
      "cell_type": "code",
      "execution_count": null,
      "metadata": {
        "id": "0aB7wIljRXSY"
      },
      "outputs": [],
      "source": [
        "y_review_texts, y_pred, y_pred_probs, y_test = get_predictions(\n",
        "  model,\n",
        "  test_data_loader\n",
        ")"
      ]
    },
    {
      "cell_type": "markdown",
      "source": [
        "Classification Report and Confusion Matrix to analyse the performance of the model:"
      ],
      "metadata": {
        "id": "OrXO5khMTL-H"
      }
    },
    {
      "cell_type": "code",
      "execution_count": null,
      "metadata": {
        "id": "PPtskMpNRaUv",
        "outputId": "b1098126-3494-4a46-fdfd-540758aa87a0"
      },
      "outputs": [
        {
          "name": "stdout",
          "output_type": "stream",
          "text": [
            "              precision    recall  f1-score   support\n",
            "\n",
            "    Negative       0.88      0.85      0.87      3145\n",
            "    Positive       0.94      0.96      0.95      9419\n",
            "     Neutral       0.52      0.47      0.49      1416\n",
            "\n",
            "    accuracy                           0.89     13980\n",
            "   macro avg       0.78      0.76      0.77     13980\n",
            "weighted avg       0.88      0.89      0.88     13980\n",
            "\n"
          ]
        }
      ],
      "source": [
        "from sklearn.metrics import classification_report,confusion_matrix\n",
        "print(classification_report(y_test, y_pred, target_names=class_name))"
      ]
    },
    {
      "cell_type": "code",
      "execution_count": null,
      "metadata": {
        "id": "G1Fae5inRfxk",
        "outputId": "8273b2f3-03b4-453f-9460-c02fc10d86e9"
      },
      "outputs": [
        {
          "data": {
            "image/png": "[encoded data removed]",
            "text/plain": [
              "<Figure size 640x480 with 2 Axes>"
            ]
          },
          "metadata": {},
          "output_type": "display_data"
        }
      ],
      "source": [
        "def show_confusion_matrix(confusion_matrix):\n",
        "  hmap = sns.heatmap(confusion_matrix, annot=True, fmt=\"d\", cmap=\"Blues\")\n",
        "  hmap.yaxis.set_ticklabels(hmap.yaxis.get_ticklabels(), rotation=0, ha='right')\n",
        "  hmap.xaxis.set_ticklabels(hmap.xaxis.get_ticklabels(), rotation=30, ha='right')\n",
        "  plt.ylabel('True sentiment')\n",
        "  plt.xlabel('Predicted sentiment');\n",
        "cm = confusion_matrix(y_test, y_pred)\n",
        "df_cm = pd.DataFrame(cm, index=class_name, columns=class_name)\n",
        "show_confusion_matrix(df_cm)"
      ]
    },
    {
      "cell_type": "markdown",
      "source": [
        "From the above confusion matrix and classification report, we can infer the following:\n",
        "\n",
        "1. **Overall Performance**:\n",
        "   - The model is highly effective in correctly classifying Positive sentiments, as indicated by the high number (9042) of True Positives in the Positive category.\n",
        "   - The model classifies the Negative sentiments with high accuracy, with 2687 True Positives.\n",
        "\n",
        "2. **Issues with Neutral Classification**:\n",
        "   - The model struggles most with Neutral sentiments. While it correctly identifies 666 instances as Neutral, it misclassifies 260 reviews as Negative and 490 reviews as Positive. It is difficult to train the model to classify neutral reviews correctly because the words used for neutral reviews are compartively subtle and usually contain both positive and negative words, which makes it hard to clearly distinguish the sentiment of the review.\n",
        "\n",
        "3. **False Positives and Negatives**:\n",
        "   - There are relatively few instances where Negative sentiments are misclassified as Positive (127) and vice versa (91). This suggests that the model is generally good at distinguishing between these two extremes.\n",
        "   - However, the misclassification between Neutral and the other two categories is more pronounced, especially Neutral being misclassified as Positive.\n",
        "\n",
        "4. **Precision and Recall Considerations**:\n",
        "   - For Negative and Positive categories, the model shows high precision as can be inferred from the low false positives.\n",
        "   - For Positive and Negative categories, the recall is high However, the recall (especially for Negative) is a bit lower due to higher false negatives.\n",
        "   - For Neutral, both precision and recall are lower compared to the other categories.\n",
        "\n",
        "In summary, while the model performs well in identifying Positive and Negative sentiments, its ability to classify Neutral sentiments accurately is an area of improvement. This could involve refining the training data or the model's ability to understand more nuanced linguistic expressions."
      ],
      "metadata": {
        "id": "xKQOZJkDb1P2"
      }
    },
    {
      "cell_type": "markdown",
      "source": [
        "What are the impacts of hyperparameters, such as the hidden dimension and the number of attention layers, on the Transformer?\n",
        "\n",
        "Hyperparameters in Transformer models, such as the hidden dimension size and the number of attention layers, have significant impacts on the model's performance.\n",
        "\n",
        "1. Hidden Dimension Size\n",
        "\n",
        "Model Capacity:\n",
        " Increasing the hidden dimension size (the size of the hidden layers) increases the model's capacity to learn complex features.\n",
        "\n",
        "Overfitting Risk:\n",
        "With a larger hidden dimension, the model can potentially overfit to the training data, especially when the dataset is not large enough to justify the increased complexity.\n",
        "\n",
        "Computational Cost: Larger hidden dimensions significantly increase the number of parameters, leading to higher memory usage and longer training times.\n",
        "\n",
        "2. Number of Attention Layers\n",
        "\n",
        "Learning Hierarchical Representations:\n",
        "\n",
        "More attention layers enable the model to learn hierarchical representations. Each layer can capture different aspects of the input data, leading to richer and more abstract feature representations.\n",
        "\n",
        "Model Depth and Complexity: Adding more layers increases the depth and complexity of the model. Deeper models can be more powerful but are also harder to train due to issues like vanishing gradients.\n",
        "\n",
        "Overfitting Risk: Similar to increasing the hidden dimension, more layers can increase the risk of overfitting, especially in cases where data is limited.\n",
        "\n",
        "Computational Resources: More layers result in more parameters, increasing the training time and memory requirements. Parallel processing (like using multiple GPUs) might be necessary for very deep models."
      ],
      "metadata": {
        "id": "PCTHzzh-JjxM"
      }
    },
    {
      "cell_type": "code",
      "execution_count": null,
      "metadata": {
        "id": "zJRQpo4aRjB7"
      },
      "outputs": [],
      "source": [
        "review_text = \"the food was delicious and the place had beautiful ambience\""
      ]
    },
    {
      "cell_type": "code",
      "execution_count": null,
      "metadata": {
        "id": "3hp47gWVRjpe"
      },
      "outputs": [],
      "source": [
        "encoded_review = tokenizer.encode_plus(\n",
        "  review_text,\n",
        "  max_length=MAX_LEN,\n",
        "  add_special_tokens=True,\n",
        "  return_token_type_ids=False,\n",
        "  pad_to_max_length=True,\n",
        "  return_attention_mask=True,\n",
        "  return_tensors='pt',\n",
        ")"
      ]
    },
    {
      "cell_type": "code",
      "execution_count": null,
      "metadata": {
        "id": "Pxyj9-gLRnkn",
        "outputId": "31e47298-5492-469c-f954-ce790a7cda7e"
      },
      "outputs": [
        {
          "name": "stdout",
          "output_type": "stream",
          "text": [
            "Review text: the food was delicious and the place had beautiful ambience\n",
            "Sentiment  : Positive\n"
          ]
        }
      ],
      "source": [
        "input_ids = encoded_review['input_ids'].to(device)\n",
        "attention_mask = encoded_review['attention_mask'].to(device)\n",
        "output = model(input_ids, attention_mask)\n",
        "_, prediction = torch.max(output, dim=1)\n",
        "print(f'Review text: {review_text}')\n",
        "print(f'Sentiment  : {class_name[prediction]}')"
      ]
    },
    {
      "cell_type": "markdown",
      "source": [
        "As we can see, the model works well and classifies the provided review correctly."
      ],
      "metadata": {
        "id": "gDjPNQc-QUYZ"
      }
    }
  ],
  "metadata": {
    "colab": {
      "provenance": []
    },
    "kernelspec": {
      "display_name": "my_env",
      "language": "python",
      "name": "my_env"
    },
    "language_info": {
      "codemirror_mode": {
        "name": "ipython",
        "version": 3
      },
      "file_extension": ".py",
      "mimetype": "text/x-python",
      "name": "python",
      "nbconvert_exporter": "python",
      "pygments_lexer": "ipython3",
      "version": "3.11.5"
    },
    "widgets": {
      "application/vnd.jupyter.widget-state+json": {
        "0239ebc526df419cb337ec4d63cae4a3": {
          "model_module": "@jupyter-widgets/controls",
          "model_module_version": "1.5.0",
          "model_name": "ProgressStyleModel",
          "state": {
            "_model_module": "@jupyter-widgets/controls",
            "_model_module_version": "1.5.0",
            "_model_name": "ProgressStyleModel",
            "_view_count": null,
            "_view_module": "@jupyter-widgets/base",
            "_view_module_version": "1.2.0",
            "_view_name": "StyleView",
            "bar_color": null,
            "description_width": ""
          }
        },
        "04f5a91860c54cf6a535a99e77a90aa6": {
          "model_module": "@jupyter-widgets/controls",
          "model_module_version": "1.5.0",
          "model_name": "HBoxModel",
          "state": {
            "_dom_classes": [],
            "_model_module": "@jupyter-widgets/controls",
            "_model_module_version": "1.5.0",
            "_model_name": "HBoxModel",
            "_view_count": null,
            "_view_module": "@jupyter-widgets/controls",
            "_view_module_version": "1.5.0",
            "_view_name": "HBoxView",
            "box_style": "",
            "children": [
              "IPY_MODEL_dbe1a28b26d248aa8ff4d748a51e1a64",
              "IPY_MODEL_675d92842da841989e449ef6b620b751",
              "IPY_MODEL_9f813168fc31488bad5db0d889d38be0"
            ],
            "layout": "IPY_MODEL_8ca6f5a75c54455abd5d20a8ab501385"
          }
        },
        "089e7e741be749c1bc37c4864c2b7a9b": {
          "model_module": "@jupyter-widgets/controls",
          "model_module_version": "1.5.0",
          "model_name": "DescriptionStyleModel",
          "state": {
            "_model_module": "@jupyter-widgets/controls",
            "_model_module_version": "1.5.0",
            "_model_name": "DescriptionStyleModel",
            "_view_count": null,
            "_view_module": "@jupyter-widgets/base",
            "_view_module_version": "1.2.0",
            "_view_name": "StyleView",
            "description_width": ""
          }
        },
        "0c3f403ecf034e92a95fb18a0ecc5d4f": {
          "model_module": "@jupyter-widgets/base",
          "model_module_version": "1.2.0",
          "model_name": "LayoutModel",
          "state": {
            "_model_module": "@jupyter-widgets/base",
            "_model_module_version": "1.2.0",
            "_model_name": "LayoutModel",
            "_view_count": null,
            "_view_module": "@jupyter-widgets/base",
            "_view_module_version": "1.2.0",
            "_view_name": "LayoutView",
            "align_content": null,
            "align_items": null,
            "align_self": null,
            "border": null,
            "bottom": null,
            "display": null,
            "flex": null,
            "flex_flow": null,
            "grid_area": null,
            "grid_auto_columns": null,
            "grid_auto_flow": null,
            "grid_auto_rows": null,
            "grid_column": null,
            "grid_gap": null,
            "grid_row": null,
            "grid_template_areas": null,
            "grid_template_columns": null,
            "grid_template_rows": null,
            "height": null,
            "justify_content": null,
            "justify_items": null,
            "left": null,
            "margin": null,
            "max_height": null,
            "max_width": null,
            "min_height": null,
            "min_width": null,
            "object_fit": null,
            "object_position": null,
            "order": null,
            "overflow": null,
            "overflow_x": null,
            "overflow_y": null,
            "padding": null,
            "right": null,
            "top": null,
            "visibility": null,
            "width": null
          }
        },
        "0c6c04f935484aeaae448573e3353a15": {
          "model_module": "@jupyter-widgets/controls",
          "model_module_version": "1.5.0",
          "model_name": "HBoxModel",
          "state": {
            "_dom_classes": [],
            "_model_module": "@jupyter-widgets/controls",
            "_model_module_version": "1.5.0",
            "_model_name": "HBoxModel",
            "_view_count": null,
            "_view_module": "@jupyter-widgets/controls",
            "_view_module_version": "1.5.0",
            "_view_name": "HBoxView",
            "box_style": "",
            "children": [
              "IPY_MODEL_3daf5b9bb90b4ed9973e4c9ac422862b",
              "IPY_MODEL_60cccafad75b476295c20a4ed838929c",
              "IPY_MODEL_13ed4b70330f4aaba67b02d479d22f3d"
            ],
            "layout": "IPY_MODEL_f960827bfb4c40aa9d21b0a82d4a6927"
          }
        },
        "0cfd6170516240ed88f2a8d87bbc7fcf": {
          "model_module": "@jupyter-widgets/base",
          "model_module_version": "1.2.0",
          "model_name": "LayoutModel",
          "state": {
            "_model_module": "@jupyter-widgets/base",
            "_model_module_version": "1.2.0",
            "_model_name": "LayoutModel",
            "_view_count": null,
            "_view_module": "@jupyter-widgets/base",
            "_view_module_version": "1.2.0",
            "_view_name": "LayoutView",
            "align_content": null,
            "align_items": null,
            "align_self": null,
            "border": null,
            "bottom": null,
            "display": null,
            "flex": null,
            "flex_flow": null,
            "grid_area": null,
            "grid_auto_columns": null,
            "grid_auto_flow": null,
            "grid_auto_rows": null,
            "grid_column": null,
            "grid_gap": null,
            "grid_row": null,
            "grid_template_areas": null,
            "grid_template_columns": null,
            "grid_template_rows": null,
            "height": null,
            "justify_content": null,
            "justify_items": null,
            "left": null,
            "margin": null,
            "max_height": null,
            "max_width": null,
            "min_height": null,
            "min_width": null,
            "object_fit": null,
            "object_position": null,
            "order": null,
            "overflow": null,
            "overflow_x": null,
            "overflow_y": null,
            "padding": null,
            "right": null,
            "top": null,
            "visibility": null,
            "width": null
          }
        },
        "124cf4e91f6b406996904ab04387c3b1": {
          "model_module": "@jupyter-widgets/base",
          "model_module_version": "1.2.0",
          "model_name": "LayoutModel",
          "state": {
            "_model_module": "@jupyter-widgets/base",
            "_model_module_version": "1.2.0",
            "_model_name": "LayoutModel",
            "_view_count": null,
            "_view_module": "@jupyter-widgets/base",
            "_view_module_version": "1.2.0",
            "_view_name": "LayoutView",
            "align_content": null,
            "align_items": null,
            "align_self": null,
            "border": null,
            "bottom": null,
            "display": null,
            "flex": null,
            "flex_flow": null,
            "grid_area": null,
            "grid_auto_columns": null,
            "grid_auto_flow": null,
            "grid_auto_rows": null,
            "grid_column": null,
            "grid_gap": null,
            "grid_row": null,
            "grid_template_areas": null,
            "grid_template_columns": null,
            "grid_template_rows": null,
            "height": null,
            "justify_content": null,
            "justify_items": null,
            "left": null,
            "margin": null,
            "max_height": null,
            "max_width": null,
            "min_height": null,
            "min_width": null,
            "object_fit": null,
            "object_position": null,
            "order": null,
            "overflow": null,
            "overflow_x": null,
            "overflow_y": null,
            "padding": null,
            "right": null,
            "top": null,
            "visibility": null,
            "width": null
          }
        },
        "13ed4b70330f4aaba67b02d479d22f3d": {
          "model_module": "@jupyter-widgets/controls",
          "model_module_version": "1.5.0",
          "model_name": "HTMLModel",
          "state": {
            "_dom_classes": [],
            "_model_module": "@jupyter-widgets/controls",
            "_model_module_version": "1.5.0",
            "_model_name": "HTMLModel",
            "_view_count": null,
            "_view_module": "@jupyter-widgets/controls",
            "_view_module_version": "1.5.0",
            "_view_name": "HTMLView",
            "description": "",
            "description_tooltip": null,
            "layout": "IPY_MODEL_376beabc710e4888a731eddcf8780a4c",
            "placeholder": "​",
            "style": "IPY_MODEL_ad039d3aef2f457ab9ecf9ab23307949",
            "value": " 466k/466k [00:00&lt;00:00, 17.0MB/s]"
          }
        },
        "14e8f501f4ea4e598c8d5b45983fc368": {
          "model_module": "@jupyter-widgets/controls",
          "model_module_version": "1.5.0",
          "model_name": "DescriptionStyleModel",
          "state": {
            "_model_module": "@jupyter-widgets/controls",
            "_model_module_version": "1.5.0",
            "_model_name": "DescriptionStyleModel",
            "_view_count": null,
            "_view_module": "@jupyter-widgets/base",
            "_view_module_version": "1.2.0",
            "_view_name": "StyleView",
            "description_width": ""
          }
        },
        "162a7def2cbd47e9922c880b322003e0": {
          "model_module": "@jupyter-widgets/base",
          "model_module_version": "1.2.0",
          "model_name": "LayoutModel",
          "state": {
            "_model_module": "@jupyter-widgets/base",
            "_model_module_version": "1.2.0",
            "_model_name": "LayoutModel",
            "_view_count": null,
            "_view_module": "@jupyter-widgets/base",
            "_view_module_version": "1.2.0",
            "_view_name": "LayoutView",
            "align_content": null,
            "align_items": null,
            "align_self": null,
            "border": null,
            "bottom": null,
            "display": null,
            "flex": null,
            "flex_flow": null,
            "grid_area": null,
            "grid_auto_columns": null,
            "grid_auto_flow": null,
            "grid_auto_rows": null,
            "grid_column": null,
            "grid_gap": null,
            "grid_row": null,
            "grid_template_areas": null,
            "grid_template_columns": null,
            "grid_template_rows": null,
            "height": null,
            "justify_content": null,
            "justify_items": null,
            "left": null,
            "margin": null,
            "max_height": null,
            "max_width": null,
            "min_height": null,
            "min_width": null,
            "object_fit": null,
            "object_position": null,
            "order": null,
            "overflow": null,
            "overflow_x": null,
            "overflow_y": null,
            "padding": null,
            "right": null,
            "top": null,
            "visibility": null,
            "width": null
          }
        },
        "18b0b95977584e59b87e291f313d168f": {
          "model_module": "@jupyter-widgets/base",
          "model_module_version": "1.2.0",
          "model_name": "LayoutModel",
          "state": {
            "_model_module": "@jupyter-widgets/base",
            "_model_module_version": "1.2.0",
            "_model_name": "LayoutModel",
            "_view_count": null,
            "_view_module": "@jupyter-widgets/base",
            "_view_module_version": "1.2.0",
            "_view_name": "LayoutView",
            "align_content": null,
            "align_items": null,
            "align_self": null,
            "border": null,
            "bottom": null,
            "display": null,
            "flex": null,
            "flex_flow": null,
            "grid_area": null,
            "grid_auto_columns": null,
            "grid_auto_flow": null,
            "grid_auto_rows": null,
            "grid_column": null,
            "grid_gap": null,
            "grid_row": null,
            "grid_template_areas": null,
            "grid_template_columns": null,
            "grid_template_rows": null,
            "height": null,
            "justify_content": null,
            "justify_items": null,
            "left": null,
            "margin": null,
            "max_height": null,
            "max_width": null,
            "min_height": null,
            "min_width": null,
            "object_fit": null,
            "object_position": null,
            "order": null,
            "overflow": null,
            "overflow_x": null,
            "overflow_y": null,
            "padding": null,
            "right": null,
            "top": null,
            "visibility": null,
            "width": null
          }
        },
        "1e16f1afd4cb441a8893185e7da46655": {
          "model_module": "@jupyter-widgets/controls",
          "model_module_version": "1.5.0",
          "model_name": "FloatProgressModel",
          "state": {
            "_dom_classes": [],
            "_model_module": "@jupyter-widgets/controls",
            "_model_module_version": "1.5.0",
            "_model_name": "FloatProgressModel",
            "_view_count": null,
            "_view_module": "@jupyter-widgets/controls",
            "_view_module_version": "1.5.0",
            "_view_name": "ProgressView",
            "bar_style": "success",
            "description": "",
            "description_tooltip": null,
            "layout": "IPY_MODEL_8fde4300116346528e9310fe0e809d54",
            "max": 28,
            "min": 0,
            "orientation": "horizontal",
            "style": "IPY_MODEL_0239ebc526df419cb337ec4d63cae4a3",
            "value": 28
          }
        },
        "216cb5bd0c12403399a6ab7372bd0d04": {
          "model_module": "@jupyter-widgets/base",
          "model_module_version": "1.2.0",
          "model_name": "LayoutModel",
          "state": {
            "_model_module": "@jupyter-widgets/base",
            "_model_module_version": "1.2.0",
            "_model_name": "LayoutModel",
            "_view_count": null,
            "_view_module": "@jupyter-widgets/base",
            "_view_module_version": "1.2.0",
            "_view_name": "LayoutView",
            "align_content": null,
            "align_items": null,
            "align_self": null,
            "border": null,
            "bottom": null,
            "display": null,
            "flex": null,
            "flex_flow": null,
            "grid_area": null,
            "grid_auto_columns": null,
            "grid_auto_flow": null,
            "grid_auto_rows": null,
            "grid_column": null,
            "grid_gap": null,
            "grid_row": null,
            "grid_template_areas": null,
            "grid_template_columns": null,
            "grid_template_rows": null,
            "height": null,
            "justify_content": null,
            "justify_items": null,
            "left": null,
            "margin": null,
            "max_height": null,
            "max_width": null,
            "min_height": null,
            "min_width": null,
            "object_fit": null,
            "object_position": null,
            "order": null,
            "overflow": null,
            "overflow_x": null,
            "overflow_y": null,
            "padding": null,
            "right": null,
            "top": null,
            "visibility": null,
            "width": null
          }
        },
        "2a35fa540895402b8c58f0ee98c1c62e": {
          "model_module": "@jupyter-widgets/controls",
          "model_module_version": "1.5.0",
          "model_name": "FloatProgressModel",
          "state": {
            "_dom_classes": [],
            "_model_module": "@jupyter-widgets/controls",
            "_model_module_version": "1.5.0",
            "_model_name": "FloatProgressModel",
            "_view_count": null,
            "_view_module": "@jupyter-widgets/controls",
            "_view_module_version": "1.5.0",
            "_view_name": "ProgressView",
            "bar_style": "success",
            "description": "",
            "description_tooltip": null,
            "layout": "IPY_MODEL_0c3f403ecf034e92a95fb18a0ecc5d4f",
            "max": 570,
            "min": 0,
            "orientation": "horizontal",
            "style": "IPY_MODEL_b256e3810a754ca4b932f97e829d221f",
            "value": 570
          }
        },
        "2bf0bf4917004f73b3602fb4a5b75bc3": {
          "model_module": "@jupyter-widgets/controls",
          "model_module_version": "1.5.0",
          "model_name": "HBoxModel",
          "state": {
            "_dom_classes": [],
            "_model_module": "@jupyter-widgets/controls",
            "_model_module_version": "1.5.0",
            "_model_name": "HBoxModel",
            "_view_count": null,
            "_view_module": "@jupyter-widgets/controls",
            "_view_module_version": "1.5.0",
            "_view_name": "HBoxView",
            "box_style": "",
            "children": [
              "IPY_MODEL_f701d2f3e1624dd0aedf3876a54cb3a9",
              "IPY_MODEL_53bc39e40f59494081c144db91d58cff",
              "IPY_MODEL_99a20299b09d485eaffdc018d88191aa"
            ],
            "layout": "IPY_MODEL_936b08485a664e8f9c474feab6abc0e6"
          }
        },
        "2e72a77c6b3349c886eab3fae36bf668": {
          "model_module": "@jupyter-widgets/controls",
          "model_module_version": "1.5.0",
          "model_name": "DescriptionStyleModel",
          "state": {
            "_model_module": "@jupyter-widgets/controls",
            "_model_module_version": "1.5.0",
            "_model_name": "DescriptionStyleModel",
            "_view_count": null,
            "_view_module": "@jupyter-widgets/base",
            "_view_module_version": "1.2.0",
            "_view_name": "StyleView",
            "description_width": ""
          }
        },
        "376beabc710e4888a731eddcf8780a4c": {
          "model_module": "@jupyter-widgets/base",
          "model_module_version": "1.2.0",
          "model_name": "LayoutModel",
          "state": {
            "_model_module": "@jupyter-widgets/base",
            "_model_module_version": "1.2.0",
            "_model_name": "LayoutModel",
            "_view_count": null,
            "_view_module": "@jupyter-widgets/base",
            "_view_module_version": "1.2.0",
            "_view_name": "LayoutView",
            "align_content": null,
            "align_items": null,
            "align_self": null,
            "border": null,
            "bottom": null,
            "display": null,
            "flex": null,
            "flex_flow": null,
            "grid_area": null,
            "grid_auto_columns": null,
            "grid_auto_flow": null,
            "grid_auto_rows": null,
            "grid_column": null,
            "grid_gap": null,
            "grid_row": null,
            "grid_template_areas": null,
            "grid_template_columns": null,
            "grid_template_rows": null,
            "height": null,
            "justify_content": null,
            "justify_items": null,
            "left": null,
            "margin": null,
            "max_height": null,
            "max_width": null,
            "min_height": null,
            "min_width": null,
            "object_fit": null,
            "object_position": null,
            "order": null,
            "overflow": null,
            "overflow_x": null,
            "overflow_y": null,
            "padding": null,
            "right": null,
            "top": null,
            "visibility": null,
            "width": null
          }
        },
        "3bcee5c16d9548f18447ea9a83a2ed59": {
          "model_module": "@jupyter-widgets/controls",
          "model_module_version": "1.5.0",
          "model_name": "HBoxModel",
          "state": {
            "_dom_classes": [],
            "_model_module": "@jupyter-widgets/controls",
            "_model_module_version": "1.5.0",
            "_model_name": "HBoxModel",
            "_view_count": null,
            "_view_module": "@jupyter-widgets/controls",
            "_view_module_version": "1.5.0",
            "_view_name": "HBoxView",
            "box_style": "",
            "children": [
              "IPY_MODEL_eb37417da46948e8b05787b37145bbca",
              "IPY_MODEL_1e16f1afd4cb441a8893185e7da46655",
              "IPY_MODEL_534a57d0a94d43f2bdda1705dd259a06"
            ],
            "layout": "IPY_MODEL_61569ce0693e45d09717290b1ed1cc46"
          }
        },
        "3daf5b9bb90b4ed9973e4c9ac422862b": {
          "model_module": "@jupyter-widgets/controls",
          "model_module_version": "1.5.0",
          "model_name": "HTMLModel",
          "state": {
            "_dom_classes": [],
            "_model_module": "@jupyter-widgets/controls",
            "_model_module_version": "1.5.0",
            "_model_name": "HTMLModel",
            "_view_count": null,
            "_view_module": "@jupyter-widgets/controls",
            "_view_module_version": "1.5.0",
            "_view_name": "HTMLView",
            "description": "",
            "description_tooltip": null,
            "layout": "IPY_MODEL_4945369636c745689e24edd4079b232c",
            "placeholder": "​",
            "style": "IPY_MODEL_2e72a77c6b3349c886eab3fae36bf668",
            "value": "tokenizer.json: 100%"
          }
        },
        "4945369636c745689e24edd4079b232c": {
          "model_module": "@jupyter-widgets/base",
          "model_module_version": "1.2.0",
          "model_name": "LayoutModel",
          "state": {
            "_model_module": "@jupyter-widgets/base",
            "_model_module_version": "1.2.0",
            "_model_name": "LayoutModel",
            "_view_count": null,
            "_view_module": "@jupyter-widgets/base",
            "_view_module_version": "1.2.0",
            "_view_name": "LayoutView",
            "align_content": null,
            "align_items": null,
            "align_self": null,
            "border": null,
            "bottom": null,
            "display": null,
            "flex": null,
            "flex_flow": null,
            "grid_area": null,
            "grid_auto_columns": null,
            "grid_auto_flow": null,
            "grid_auto_rows": null,
            "grid_column": null,
            "grid_gap": null,
            "grid_row": null,
            "grid_template_areas": null,
            "grid_template_columns": null,
            "grid_template_rows": null,
            "height": null,
            "justify_content": null,
            "justify_items": null,
            "left": null,
            "margin": null,
            "max_height": null,
            "max_width": null,
            "min_height": null,
            "min_width": null,
            "object_fit": null,
            "object_position": null,
            "order": null,
            "overflow": null,
            "overflow_x": null,
            "overflow_y": null,
            "padding": null,
            "right": null,
            "top": null,
            "visibility": null,
            "width": null
          }
        },
        "534a57d0a94d43f2bdda1705dd259a06": {
          "model_module": "@jupyter-widgets/controls",
          "model_module_version": "1.5.0",
          "model_name": "HTMLModel",
          "state": {
            "_dom_classes": [],
            "_model_module": "@jupyter-widgets/controls",
            "_model_module_version": "1.5.0",
            "_model_name": "HTMLModel",
            "_view_count": null,
            "_view_module": "@jupyter-widgets/controls",
            "_view_module_version": "1.5.0",
            "_view_name": "HTMLView",
            "description": "",
            "description_tooltip": null,
            "layout": "IPY_MODEL_a5783d2f4cfc422590a37d1deeda2757",
            "placeholder": "​",
            "style": "IPY_MODEL_089e7e741be749c1bc37c4864c2b7a9b",
            "value": " 28.0/28.0 [00:00&lt;00:00, 825B/s]"
          }
        },
        "5373d01e7f2949d08902bfd571183d4a": {
          "model_module": "@jupyter-widgets/base",
          "model_module_version": "1.2.0",
          "model_name": "LayoutModel",
          "state": {
            "_model_module": "@jupyter-widgets/base",
            "_model_module_version": "1.2.0",
            "_model_name": "LayoutModel",
            "_view_count": null,
            "_view_module": "@jupyter-widgets/base",
            "_view_module_version": "1.2.0",
            "_view_name": "LayoutView",
            "align_content": null,
            "align_items": null,
            "align_self": null,
            "border": null,
            "bottom": null,
            "display": null,
            "flex": null,
            "flex_flow": null,
            "grid_area": null,
            "grid_auto_columns": null,
            "grid_auto_flow": null,
            "grid_auto_rows": null,
            "grid_column": null,
            "grid_gap": null,
            "grid_row": null,
            "grid_template_areas": null,
            "grid_template_columns": null,
            "grid_template_rows": null,
            "height": null,
            "justify_content": null,
            "justify_items": null,
            "left": null,
            "margin": null,
            "max_height": null,
            "max_width": null,
            "min_height": null,
            "min_width": null,
            "object_fit": null,
            "object_position": null,
            "order": null,
            "overflow": null,
            "overflow_x": null,
            "overflow_y": null,
            "padding": null,
            "right": null,
            "top": null,
            "visibility": null,
            "width": null
          }
        },
        "53bc39e40f59494081c144db91d58cff": {
          "model_module": "@jupyter-widgets/controls",
          "model_module_version": "1.5.0",
          "model_name": "FloatProgressModel",
          "state": {
            "_dom_classes": [],
            "_model_module": "@jupyter-widgets/controls",
            "_model_module_version": "1.5.0",
            "_model_name": "FloatProgressModel",
            "_view_count": null,
            "_view_module": "@jupyter-widgets/controls",
            "_view_module_version": "1.5.0",
            "_view_name": "ProgressView",
            "bar_style": "success",
            "description": "",
            "description_tooltip": null,
            "layout": "IPY_MODEL_ae922ce36f734e93a1f3d5f40b756b26",
            "max": 231508,
            "min": 0,
            "orientation": "horizontal",
            "style": "IPY_MODEL_d17b0ac57a184ed2ab81263ac605c30a",
            "value": 231508
          }
        },
        "60cccafad75b476295c20a4ed838929c": {
          "model_module": "@jupyter-widgets/controls",
          "model_module_version": "1.5.0",
          "model_name": "FloatProgressModel",
          "state": {
            "_dom_classes": [],
            "_model_module": "@jupyter-widgets/controls",
            "_model_module_version": "1.5.0",
            "_model_name": "FloatProgressModel",
            "_view_count": null,
            "_view_module": "@jupyter-widgets/controls",
            "_view_module_version": "1.5.0",
            "_view_name": "ProgressView",
            "bar_style": "success",
            "description": "",
            "description_tooltip": null,
            "layout": "IPY_MODEL_5373d01e7f2949d08902bfd571183d4a",
            "max": 466062,
            "min": 0,
            "orientation": "horizontal",
            "style": "IPY_MODEL_6837cfdd87904270ab682b76d6e4a259",
            "value": 466062
          }
        },
        "61569ce0693e45d09717290b1ed1cc46": {
          "model_module": "@jupyter-widgets/base",
          "model_module_version": "1.2.0",
          "model_name": "LayoutModel",
          "state": {
            "_model_module": "@jupyter-widgets/base",
            "_model_module_version": "1.2.0",
            "_model_name": "LayoutModel",
            "_view_count": null,
            "_view_module": "@jupyter-widgets/base",
            "_view_module_version": "1.2.0",
            "_view_name": "LayoutView",
            "align_content": null,
            "align_items": null,
            "align_self": null,
            "border": null,
            "bottom": null,
            "display": null,
            "flex": null,
            "flex_flow": null,
            "grid_area": null,
            "grid_auto_columns": null,
            "grid_auto_flow": null,
            "grid_auto_rows": null,
            "grid_column": null,
            "grid_gap": null,
            "grid_row": null,
            "grid_template_areas": null,
            "grid_template_columns": null,
            "grid_template_rows": null,
            "height": null,
            "justify_content": null,
            "justify_items": null,
            "left": null,
            "margin": null,
            "max_height": null,
            "max_width": null,
            "min_height": null,
            "min_width": null,
            "object_fit": null,
            "object_position": null,
            "order": null,
            "overflow": null,
            "overflow_x": null,
            "overflow_y": null,
            "padding": null,
            "right": null,
            "top": null,
            "visibility": null,
            "width": null
          }
        },
        "675d92842da841989e449ef6b620b751": {
          "model_module": "@jupyter-widgets/controls",
          "model_module_version": "1.5.0",
          "model_name": "FloatProgressModel",
          "state": {
            "_dom_classes": [],
            "_model_module": "@jupyter-widgets/controls",
            "_model_module_version": "1.5.0",
            "_model_name": "FloatProgressModel",
            "_view_count": null,
            "_view_module": "@jupyter-widgets/controls",
            "_view_module_version": "1.5.0",
            "_view_name": "ProgressView",
            "bar_style": "success",
            "description": "",
            "description_tooltip": null,
            "layout": "IPY_MODEL_a1efd28a780d42879ce61d182520b035",
            "max": 440449768,
            "min": 0,
            "orientation": "horizontal",
            "style": "IPY_MODEL_dc49dbdead144edaa83615cc1e80cbcc",
            "value": 440449768
          }
        },
        "6837cfdd87904270ab682b76d6e4a259": {
          "model_module": "@jupyter-widgets/controls",
          "model_module_version": "1.5.0",
          "model_name": "ProgressStyleModel",
          "state": {
            "_model_module": "@jupyter-widgets/controls",
            "_model_module_version": "1.5.0",
            "_model_name": "ProgressStyleModel",
            "_view_count": null,
            "_view_module": "@jupyter-widgets/base",
            "_view_module_version": "1.2.0",
            "_view_name": "StyleView",
            "bar_color": null,
            "description_width": ""
          }
        },
        "6f42baccbe0a4808a717af2edbed6e2a": {
          "model_module": "@jupyter-widgets/base",
          "model_module_version": "1.2.0",
          "model_name": "LayoutModel",
          "state": {
            "_model_module": "@jupyter-widgets/base",
            "_model_module_version": "1.2.0",
            "_model_name": "LayoutModel",
            "_view_count": null,
            "_view_module": "@jupyter-widgets/base",
            "_view_module_version": "1.2.0",
            "_view_name": "LayoutView",
            "align_content": null,
            "align_items": null,
            "align_self": null,
            "border": null,
            "bottom": null,
            "display": null,
            "flex": null,
            "flex_flow": null,
            "grid_area": null,
            "grid_auto_columns": null,
            "grid_auto_flow": null,
            "grid_auto_rows": null,
            "grid_column": null,
            "grid_gap": null,
            "grid_row": null,
            "grid_template_areas": null,
            "grid_template_columns": null,
            "grid_template_rows": null,
            "height": null,
            "justify_content": null,
            "justify_items": null,
            "left": null,
            "margin": null,
            "max_height": null,
            "max_width": null,
            "min_height": null,
            "min_width": null,
            "object_fit": null,
            "object_position": null,
            "order": null,
            "overflow": null,
            "overflow_x": null,
            "overflow_y": null,
            "padding": null,
            "right": null,
            "top": null,
            "visibility": null,
            "width": null
          }
        },
        "732539ac45f949c98f550af887531146": {
          "model_module": "@jupyter-widgets/controls",
          "model_module_version": "1.5.0",
          "model_name": "HTMLModel",
          "state": {
            "_dom_classes": [],
            "_model_module": "@jupyter-widgets/controls",
            "_model_module_version": "1.5.0",
            "_model_name": "HTMLModel",
            "_view_count": null,
            "_view_module": "@jupyter-widgets/controls",
            "_view_module_version": "1.5.0",
            "_view_name": "HTMLView",
            "description": "",
            "description_tooltip": null,
            "layout": "IPY_MODEL_0cfd6170516240ed88f2a8d87bbc7fcf",
            "placeholder": "​",
            "style": "IPY_MODEL_e1d0a710240f4aa78b121cd35d003662",
            "value": " 570/570 [00:00&lt;00:00, 24.2kB/s]"
          }
        },
        "7af6af456e5a4b8a8d9a994fd7493034": {
          "model_module": "@jupyter-widgets/controls",
          "model_module_version": "1.5.0",
          "model_name": "HBoxModel",
          "state": {
            "_dom_classes": [],
            "_model_module": "@jupyter-widgets/controls",
            "_model_module_version": "1.5.0",
            "_model_name": "HBoxModel",
            "_view_count": null,
            "_view_module": "@jupyter-widgets/controls",
            "_view_module_version": "1.5.0",
            "_view_name": "HBoxView",
            "box_style": "",
            "children": [
              "IPY_MODEL_c0a0392e87b4409cb37304ba499afff6",
              "IPY_MODEL_2a35fa540895402b8c58f0ee98c1c62e",
              "IPY_MODEL_732539ac45f949c98f550af887531146"
            ],
            "layout": "IPY_MODEL_18b0b95977584e59b87e291f313d168f"
          }
        },
        "8c4a18e882cb4b55adbf2278f7ad3c10": {
          "model_module": "@jupyter-widgets/base",
          "model_module_version": "1.2.0",
          "model_name": "LayoutModel",
          "state": {
            "_model_module": "@jupyter-widgets/base",
            "_model_module_version": "1.2.0",
            "_model_name": "LayoutModel",
            "_view_count": null,
            "_view_module": "@jupyter-widgets/base",
            "_view_module_version": "1.2.0",
            "_view_name": "LayoutView",
            "align_content": null,
            "align_items": null,
            "align_self": null,
            "border": null,
            "bottom": null,
            "display": null,
            "flex": null,
            "flex_flow": null,
            "grid_area": null,
            "grid_auto_columns": null,
            "grid_auto_flow": null,
            "grid_auto_rows": null,
            "grid_column": null,
            "grid_gap": null,
            "grid_row": null,
            "grid_template_areas": null,
            "grid_template_columns": null,
            "grid_template_rows": null,
            "height": null,
            "justify_content": null,
            "justify_items": null,
            "left": null,
            "margin": null,
            "max_height": null,
            "max_width": null,
            "min_height": null,
            "min_width": null,
            "object_fit": null,
            "object_position": null,
            "order": null,
            "overflow": null,
            "overflow_x": null,
            "overflow_y": null,
            "padding": null,
            "right": null,
            "top": null,
            "visibility": null,
            "width": null
          }
        },
        "8ca6f5a75c54455abd5d20a8ab501385": {
          "model_module": "@jupyter-widgets/base",
          "model_module_version": "1.2.0",
          "model_name": "LayoutModel",
          "state": {
            "_model_module": "@jupyter-widgets/base",
            "_model_module_version": "1.2.0",
            "_model_name": "LayoutModel",
            "_view_count": null,
            "_view_module": "@jupyter-widgets/base",
            "_view_module_version": "1.2.0",
            "_view_name": "LayoutView",
            "align_content": null,
            "align_items": null,
            "align_self": null,
            "border": null,
            "bottom": null,
            "display": null,
            "flex": null,
            "flex_flow": null,
            "grid_area": null,
            "grid_auto_columns": null,
            "grid_auto_flow": null,
            "grid_auto_rows": null,
            "grid_column": null,
            "grid_gap": null,
            "grid_row": null,
            "grid_template_areas": null,
            "grid_template_columns": null,
            "grid_template_rows": null,
            "height": null,
            "justify_content": null,
            "justify_items": null,
            "left": null,
            "margin": null,
            "max_height": null,
            "max_width": null,
            "min_height": null,
            "min_width": null,
            "object_fit": null,
            "object_position": null,
            "order": null,
            "overflow": null,
            "overflow_x": null,
            "overflow_y": null,
            "padding": null,
            "right": null,
            "top": null,
            "visibility": null,
            "width": null
          }
        },
        "8fde4300116346528e9310fe0e809d54": {
          "model_module": "@jupyter-widgets/base",
          "model_module_version": "1.2.0",
          "model_name": "LayoutModel",
          "state": {
            "_model_module": "@jupyter-widgets/base",
            "_model_module_version": "1.2.0",
            "_model_name": "LayoutModel",
            "_view_count": null,
            "_view_module": "@jupyter-widgets/base",
            "_view_module_version": "1.2.0",
            "_view_name": "LayoutView",
            "align_content": null,
            "align_items": null,
            "align_self": null,
            "border": null,
            "bottom": null,
            "display": null,
            "flex": null,
            "flex_flow": null,
            "grid_area": null,
            "grid_auto_columns": null,
            "grid_auto_flow": null,
            "grid_auto_rows": null,
            "grid_column": null,
            "grid_gap": null,
            "grid_row": null,
            "grid_template_areas": null,
            "grid_template_columns": null,
            "grid_template_rows": null,
            "height": null,
            "justify_content": null,
            "justify_items": null,
            "left": null,
            "margin": null,
            "max_height": null,
            "max_width": null,
            "min_height": null,
            "min_width": null,
            "object_fit": null,
            "object_position": null,
            "order": null,
            "overflow": null,
            "overflow_x": null,
            "overflow_y": null,
            "padding": null,
            "right": null,
            "top": null,
            "visibility": null,
            "width": null
          }
        },
        "92842faae9a74cdfbd3a2221f01f3301": {
          "model_module": "@jupyter-widgets/base",
          "model_module_version": "1.2.0",
          "model_name": "LayoutModel",
          "state": {
            "_model_module": "@jupyter-widgets/base",
            "_model_module_version": "1.2.0",
            "_model_name": "LayoutModel",
            "_view_count": null,
            "_view_module": "@jupyter-widgets/base",
            "_view_module_version": "1.2.0",
            "_view_name": "LayoutView",
            "align_content": null,
            "align_items": null,
            "align_self": null,
            "border": null,
            "bottom": null,
            "display": null,
            "flex": null,
            "flex_flow": null,
            "grid_area": null,
            "grid_auto_columns": null,
            "grid_auto_flow": null,
            "grid_auto_rows": null,
            "grid_column": null,
            "grid_gap": null,
            "grid_row": null,
            "grid_template_areas": null,
            "grid_template_columns": null,
            "grid_template_rows": null,
            "height": null,
            "justify_content": null,
            "justify_items": null,
            "left": null,
            "margin": null,
            "max_height": null,
            "max_width": null,
            "min_height": null,
            "min_width": null,
            "object_fit": null,
            "object_position": null,
            "order": null,
            "overflow": null,
            "overflow_x": null,
            "overflow_y": null,
            "padding": null,
            "right": null,
            "top": null,
            "visibility": null,
            "width": null
          }
        },
        "936b08485a664e8f9c474feab6abc0e6": {
          "model_module": "@jupyter-widgets/base",
          "model_module_version": "1.2.0",
          "model_name": "LayoutModel",
          "state": {
            "_model_module": "@jupyter-widgets/base",
            "_model_module_version": "1.2.0",
            "_model_name": "LayoutModel",
            "_view_count": null,
            "_view_module": "@jupyter-widgets/base",
            "_view_module_version": "1.2.0",
            "_view_name": "LayoutView",
            "align_content": null,
            "align_items": null,
            "align_self": null,
            "border": null,
            "bottom": null,
            "display": null,
            "flex": null,
            "flex_flow": null,
            "grid_area": null,
            "grid_auto_columns": null,
            "grid_auto_flow": null,
            "grid_auto_rows": null,
            "grid_column": null,
            "grid_gap": null,
            "grid_row": null,
            "grid_template_areas": null,
            "grid_template_columns": null,
            "grid_template_rows": null,
            "height": null,
            "justify_content": null,
            "justify_items": null,
            "left": null,
            "margin": null,
            "max_height": null,
            "max_width": null,
            "min_height": null,
            "min_width": null,
            "object_fit": null,
            "object_position": null,
            "order": null,
            "overflow": null,
            "overflow_x": null,
            "overflow_y": null,
            "padding": null,
            "right": null,
            "top": null,
            "visibility": null,
            "width": null
          }
        },
        "99a20299b09d485eaffdc018d88191aa": {
          "model_module": "@jupyter-widgets/controls",
          "model_module_version": "1.5.0",
          "model_name": "HTMLModel",
          "state": {
            "_dom_classes": [],
            "_model_module": "@jupyter-widgets/controls",
            "_model_module_version": "1.5.0",
            "_model_name": "HTMLModel",
            "_view_count": null,
            "_view_module": "@jupyter-widgets/controls",
            "_view_module_version": "1.5.0",
            "_view_name": "HTMLView",
            "description": "",
            "description_tooltip": null,
            "layout": "IPY_MODEL_92842faae9a74cdfbd3a2221f01f3301",
            "placeholder": "​",
            "style": "IPY_MODEL_a21949dcb83149b1bdc71733e1114d18",
            "value": " 232k/232k [00:00&lt;00:00, 7.76MB/s]"
          }
        },
        "9f813168fc31488bad5db0d889d38be0": {
          "model_module": "@jupyter-widgets/controls",
          "model_module_version": "1.5.0",
          "model_name": "HTMLModel",
          "state": {
            "_dom_classes": [],
            "_model_module": "@jupyter-widgets/controls",
            "_model_module_version": "1.5.0",
            "_model_name": "HTMLModel",
            "_view_count": null,
            "_view_module": "@jupyter-widgets/controls",
            "_view_module_version": "1.5.0",
            "_view_name": "HTMLView",
            "description": "",
            "description_tooltip": null,
            "layout": "IPY_MODEL_124cf4e91f6b406996904ab04387c3b1",
            "placeholder": "​",
            "style": "IPY_MODEL_e736ae32ab9a473baff6124a6af8f0c8",
            "value": " 440M/440M [00:11&lt;00:00, 46.7MB/s]"
          }
        },
        "a1efd28a780d42879ce61d182520b035": {
          "model_module": "@jupyter-widgets/base",
          "model_module_version": "1.2.0",
          "model_name": "LayoutModel",
          "state": {
            "_model_module": "@jupyter-widgets/base",
            "_model_module_version": "1.2.0",
            "_model_name": "LayoutModel",
            "_view_count": null,
            "_view_module": "@jupyter-widgets/base",
            "_view_module_version": "1.2.0",
            "_view_name": "LayoutView",
            "align_content": null,
            "align_items": null,
            "align_self": null,
            "border": null,
            "bottom": null,
            "display": null,
            "flex": null,
            "flex_flow": null,
            "grid_area": null,
            "grid_auto_columns": null,
            "grid_auto_flow": null,
            "grid_auto_rows": null,
            "grid_column": null,
            "grid_gap": null,
            "grid_row": null,
            "grid_template_areas": null,
            "grid_template_columns": null,
            "grid_template_rows": null,
            "height": null,
            "justify_content": null,
            "justify_items": null,
            "left": null,
            "margin": null,
            "max_height": null,
            "max_width": null,
            "min_height": null,
            "min_width": null,
            "object_fit": null,
            "object_position": null,
            "order": null,
            "overflow": null,
            "overflow_x": null,
            "overflow_y": null,
            "padding": null,
            "right": null,
            "top": null,
            "visibility": null,
            "width": null
          }
        },
        "a21949dcb83149b1bdc71733e1114d18": {
          "model_module": "@jupyter-widgets/controls",
          "model_module_version": "1.5.0",
          "model_name": "DescriptionStyleModel",
          "state": {
            "_model_module": "@jupyter-widgets/controls",
            "_model_module_version": "1.5.0",
            "_model_name": "DescriptionStyleModel",
            "_view_count": null,
            "_view_module": "@jupyter-widgets/base",
            "_view_module_version": "1.2.0",
            "_view_name": "StyleView",
            "description_width": ""
          }
        },
        "a5783d2f4cfc422590a37d1deeda2757": {
          "model_module": "@jupyter-widgets/base",
          "model_module_version": "1.2.0",
          "model_name": "LayoutModel",
          "state": {
            "_model_module": "@jupyter-widgets/base",
            "_model_module_version": "1.2.0",
            "_model_name": "LayoutModel",
            "_view_count": null,
            "_view_module": "@jupyter-widgets/base",
            "_view_module_version": "1.2.0",
            "_view_name": "LayoutView",
            "align_content": null,
            "align_items": null,
            "align_self": null,
            "border": null,
            "bottom": null,
            "display": null,
            "flex": null,
            "flex_flow": null,
            "grid_area": null,
            "grid_auto_columns": null,
            "grid_auto_flow": null,
            "grid_auto_rows": null,
            "grid_column": null,
            "grid_gap": null,
            "grid_row": null,
            "grid_template_areas": null,
            "grid_template_columns": null,
            "grid_template_rows": null,
            "height": null,
            "justify_content": null,
            "justify_items": null,
            "left": null,
            "margin": null,
            "max_height": null,
            "max_width": null,
            "min_height": null,
            "min_width": null,
            "object_fit": null,
            "object_position": null,
            "order": null,
            "overflow": null,
            "overflow_x": null,
            "overflow_y": null,
            "padding": null,
            "right": null,
            "top": null,
            "visibility": null,
            "width": null
          }
        },
        "ad039d3aef2f457ab9ecf9ab23307949": {
          "model_module": "@jupyter-widgets/controls",
          "model_module_version": "1.5.0",
          "model_name": "DescriptionStyleModel",
          "state": {
            "_model_module": "@jupyter-widgets/controls",
            "_model_module_version": "1.5.0",
            "_model_name": "DescriptionStyleModel",
            "_view_count": null,
            "_view_module": "@jupyter-widgets/base",
            "_view_module_version": "1.2.0",
            "_view_name": "StyleView",
            "description_width": ""
          }
        },
        "ae922ce36f734e93a1f3d5f40b756b26": {
          "model_module": "@jupyter-widgets/base",
          "model_module_version": "1.2.0",
          "model_name": "LayoutModel",
          "state": {
            "_model_module": "@jupyter-widgets/base",
            "_model_module_version": "1.2.0",
            "_model_name": "LayoutModel",
            "_view_count": null,
            "_view_module": "@jupyter-widgets/base",
            "_view_module_version": "1.2.0",
            "_view_name": "LayoutView",
            "align_content": null,
            "align_items": null,
            "align_self": null,
            "border": null,
            "bottom": null,
            "display": null,
            "flex": null,
            "flex_flow": null,
            "grid_area": null,
            "grid_auto_columns": null,
            "grid_auto_flow": null,
            "grid_auto_rows": null,
            "grid_column": null,
            "grid_gap": null,
            "grid_row": null,
            "grid_template_areas": null,
            "grid_template_columns": null,
            "grid_template_rows": null,
            "height": null,
            "justify_content": null,
            "justify_items": null,
            "left": null,
            "margin": null,
            "max_height": null,
            "max_width": null,
            "min_height": null,
            "min_width": null,
            "object_fit": null,
            "object_position": null,
            "order": null,
            "overflow": null,
            "overflow_x": null,
            "overflow_y": null,
            "padding": null,
            "right": null,
            "top": null,
            "visibility": null,
            "width": null
          }
        },
        "b256e3810a754ca4b932f97e829d221f": {
          "model_module": "@jupyter-widgets/controls",
          "model_module_version": "1.5.0",
          "model_name": "ProgressStyleModel",
          "state": {
            "_model_module": "@jupyter-widgets/controls",
            "_model_module_version": "1.5.0",
            "_model_name": "ProgressStyleModel",
            "_view_count": null,
            "_view_module": "@jupyter-widgets/base",
            "_view_module_version": "1.2.0",
            "_view_name": "StyleView",
            "bar_color": null,
            "description_width": ""
          }
        },
        "c0a0392e87b4409cb37304ba499afff6": {
          "model_module": "@jupyter-widgets/controls",
          "model_module_version": "1.5.0",
          "model_name": "HTMLModel",
          "state": {
            "_dom_classes": [],
            "_model_module": "@jupyter-widgets/controls",
            "_model_module_version": "1.5.0",
            "_model_name": "HTMLModel",
            "_view_count": null,
            "_view_module": "@jupyter-widgets/controls",
            "_view_module_version": "1.5.0",
            "_view_name": "HTMLView",
            "description": "",
            "description_tooltip": null,
            "layout": "IPY_MODEL_8c4a18e882cb4b55adbf2278f7ad3c10",
            "placeholder": "​",
            "style": "IPY_MODEL_14e8f501f4ea4e598c8d5b45983fc368",
            "value": "config.json: 100%"
          }
        },
        "c530f005051f460aab43b6e206d821ae": {
          "model_module": "@jupyter-widgets/controls",
          "model_module_version": "1.5.0",
          "model_name": "DescriptionStyleModel",
          "state": {
            "_model_module": "@jupyter-widgets/controls",
            "_model_module_version": "1.5.0",
            "_model_name": "DescriptionStyleModel",
            "_view_count": null,
            "_view_module": "@jupyter-widgets/base",
            "_view_module_version": "1.2.0",
            "_view_name": "StyleView",
            "description_width": ""
          }
        },
        "d17b0ac57a184ed2ab81263ac605c30a": {
          "model_module": "@jupyter-widgets/controls",
          "model_module_version": "1.5.0",
          "model_name": "ProgressStyleModel",
          "state": {
            "_model_module": "@jupyter-widgets/controls",
            "_model_module_version": "1.5.0",
            "_model_name": "ProgressStyleModel",
            "_view_count": null,
            "_view_module": "@jupyter-widgets/base",
            "_view_module_version": "1.2.0",
            "_view_name": "StyleView",
            "bar_color": null,
            "description_width": ""
          }
        },
        "dbe1a28b26d248aa8ff4d748a51e1a64": {
          "model_module": "@jupyter-widgets/controls",
          "model_module_version": "1.5.0",
          "model_name": "HTMLModel",
          "state": {
            "_dom_classes": [],
            "_model_module": "@jupyter-widgets/controls",
            "_model_module_version": "1.5.0",
            "_model_name": "HTMLModel",
            "_view_count": null,
            "_view_module": "@jupyter-widgets/controls",
            "_view_module_version": "1.5.0",
            "_view_name": "HTMLView",
            "description": "",
            "description_tooltip": null,
            "layout": "IPY_MODEL_162a7def2cbd47e9922c880b322003e0",
            "placeholder": "​",
            "style": "IPY_MODEL_f675addf7a6c48679d36297b308281a6",
            "value": "model.safetensors: 100%"
          }
        },
        "dc49dbdead144edaa83615cc1e80cbcc": {
          "model_module": "@jupyter-widgets/controls",
          "model_module_version": "1.5.0",
          "model_name": "ProgressStyleModel",
          "state": {
            "_model_module": "@jupyter-widgets/controls",
            "_model_module_version": "1.5.0",
            "_model_name": "ProgressStyleModel",
            "_view_count": null,
            "_view_module": "@jupyter-widgets/base",
            "_view_module_version": "1.2.0",
            "_view_name": "StyleView",
            "bar_color": null,
            "description_width": ""
          }
        },
        "e1d0a710240f4aa78b121cd35d003662": {
          "model_module": "@jupyter-widgets/controls",
          "model_module_version": "1.5.0",
          "model_name": "DescriptionStyleModel",
          "state": {
            "_model_module": "@jupyter-widgets/controls",
            "_model_module_version": "1.5.0",
            "_model_name": "DescriptionStyleModel",
            "_view_count": null,
            "_view_module": "@jupyter-widgets/base",
            "_view_module_version": "1.2.0",
            "_view_name": "StyleView",
            "description_width": ""
          }
        },
        "e736ae32ab9a473baff6124a6af8f0c8": {
          "model_module": "@jupyter-widgets/controls",
          "model_module_version": "1.5.0",
          "model_name": "DescriptionStyleModel",
          "state": {
            "_model_module": "@jupyter-widgets/controls",
            "_model_module_version": "1.5.0",
            "_model_name": "DescriptionStyleModel",
            "_view_count": null,
            "_view_module": "@jupyter-widgets/base",
            "_view_module_version": "1.2.0",
            "_view_name": "StyleView",
            "description_width": ""
          }
        },
        "eb37417da46948e8b05787b37145bbca": {
          "model_module": "@jupyter-widgets/controls",
          "model_module_version": "1.5.0",
          "model_name": "HTMLModel",
          "state": {
            "_dom_classes": [],
            "_model_module": "@jupyter-widgets/controls",
            "_model_module_version": "1.5.0",
            "_model_name": "HTMLModel",
            "_view_count": null,
            "_view_module": "@jupyter-widgets/controls",
            "_view_module_version": "1.5.0",
            "_view_name": "HTMLView",
            "description": "",
            "description_tooltip": null,
            "layout": "IPY_MODEL_6f42baccbe0a4808a717af2edbed6e2a",
            "placeholder": "​",
            "style": "IPY_MODEL_c530f005051f460aab43b6e206d821ae",
            "value": "tokenizer_config.json: 100%"
          }
        },
        "f675addf7a6c48679d36297b308281a6": {
          "model_module": "@jupyter-widgets/controls",
          "model_module_version": "1.5.0",
          "model_name": "DescriptionStyleModel",
          "state": {
            "_model_module": "@jupyter-widgets/controls",
            "_model_module_version": "1.5.0",
            "_model_name": "DescriptionStyleModel",
            "_view_count": null,
            "_view_module": "@jupyter-widgets/base",
            "_view_module_version": "1.2.0",
            "_view_name": "StyleView",
            "description_width": ""
          }
        },
        "f701d2f3e1624dd0aedf3876a54cb3a9": {
          "model_module": "@jupyter-widgets/controls",
          "model_module_version": "1.5.0",
          "model_name": "HTMLModel",
          "state": {
            "_dom_classes": [],
            "_model_module": "@jupyter-widgets/controls",
            "_model_module_version": "1.5.0",
            "_model_name": "HTMLModel",
            "_view_count": null,
            "_view_module": "@jupyter-widgets/controls",
            "_view_module_version": "1.5.0",
            "_view_name": "HTMLView",
            "description": "",
            "description_tooltip": null,
            "layout": "IPY_MODEL_216cb5bd0c12403399a6ab7372bd0d04",
            "placeholder": "​",
            "style": "IPY_MODEL_fb0b210fd888449cb2ab2ac89620635a",
            "value": "vocab.txt: 100%"
          }
        },
        "f960827bfb4c40aa9d21b0a82d4a6927": {
          "model_module": "@jupyter-widgets/base",
          "model_module_version": "1.2.0",
          "model_name": "LayoutModel",
          "state": {
            "_model_module": "@jupyter-widgets/base",
            "_model_module_version": "1.2.0",
            "_model_name": "LayoutModel",
            "_view_count": null,
            "_view_module": "@jupyter-widgets/base",
            "_view_module_version": "1.2.0",
            "_view_name": "LayoutView",
            "align_content": null,
            "align_items": null,
            "align_self": null,
            "border": null,
            "bottom": null,
            "display": null,
            "flex": null,
            "flex_flow": null,
            "grid_area": null,
            "grid_auto_columns": null,
            "grid_auto_flow": null,
            "grid_auto_rows": null,
            "grid_column": null,
            "grid_gap": null,
            "grid_row": null,
            "grid_template_areas": null,
            "grid_template_columns": null,
            "grid_template_rows": null,
            "height": null,
            "justify_content": null,
            "justify_items": null,
            "left": null,
            "margin": null,
            "max_height": null,
            "max_width": null,
            "min_height": null,
            "min_width": null,
            "object_fit": null,
            "object_position": null,
            "order": null,
            "overflow": null,
            "overflow_x": null,
            "overflow_y": null,
            "padding": null,
            "right": null,
            "top": null,
            "visibility": null,
            "width": null
          }
        },
        "fb0b210fd888449cb2ab2ac89620635a": {
          "model_module": "@jupyter-widgets/controls",
          "model_module_version": "1.5.0",
          "model_name": "DescriptionStyleModel",
          "state": {
            "_model_module": "@jupyter-widgets/controls",
            "_model_module_version": "1.5.0",
            "_model_name": "DescriptionStyleModel",
            "_view_count": null,
            "_view_module": "@jupyter-widgets/base",
            "_view_module_version": "1.2.0",
            "_view_name": "StyleView",
            "description_width": ""
          }
        }
      }
    }
  },
  "nbformat": 4,
  "nbformat_minor": 0
}